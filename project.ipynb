{
  "cells": [
    {
      "cell_type": "code",
      "execution_count": 1,
      "metadata": {
        "id": "hLSr0sb2HOzy"
      },
      "outputs": [],
      "source": [
        "import pandas as pd\n",
        "import numpy as np\n",
        "import seaborn as sns\n",
        "import matplotlib.pyplot as plt\n",
        "import plotly.express as px\n",
        "import plotly.io as pio\n",
        "import scipy.stats as st\n",
        "import math\n",
        "import datetime\n",
        "from scipy.stats import norm, skew\n",
        "from sklearn import metrics\n",
        "from collections import Counter\n",
        "\n",
        "from sklearn.preprocessing import LabelEncoder\n",
        "from sklearn.preprocessing import MinMaxScaler, RobustScaler, StandardScaler\n",
        "from sklearn.model_selection import train_test_split, GridSearchCV, cross_val_score, KFold\n",
        "from sklearn.metrics import mean_squared_error, mean_squared_log_error, r2_score\n",
        "from sklearn import model_selection\n",
        "from sklearn.pipeline import make_pipeline\n",
        "\n",
        "\n",
        "\n",
        "# from termcolor import colored\n",
        "# to ignore warnings\n",
        "import warnings\n",
        "warnings.filterwarnings(\"ignore\")\n",
        "\n",
        "#to see model hyperparameters\n",
        "from sklearn import set_config\n",
        "set_config(print_changed_only = False)\n",
        "\n",
        "# to show all columns\n",
        "pd.set_option('display.max_columns', 15)"
      ]
    },
    {
      "cell_type": "code",
      "execution_count": 2,
      "metadata": {
        "colab": {
          "base_uri": "https://localhost:8080/",
          "height": 504
        },
        "id": "wcHjyg_sHOz2",
        "outputId": "139e2c04-728f-46f1-8a51-863af6d7213f"
      },
      "outputs": [
        {
          "data": {
            "text/html": [
              "<style type=\"text/css\">\n",
              "#T_1fcb1_row0_col1, #T_1fcb1_row0_col2, #T_1fcb1_row0_col3, #T_1fcb1_row1_col1 {\n",
              "  background-color: #ffff00;\n",
              "  color: #000000;\n",
              "}\n",
              "#T_1fcb1_row0_col12, #T_1fcb1_row1_col3, #T_1fcb1_row1_col12, #T_1fcb1_row2_col1, #T_1fcb1_row2_col12, #T_1fcb1_row3_col12, #T_1fcb1_row4_col2, #T_1fcb1_row4_col3, #T_1fcb1_row4_col12 {\n",
              "  background-color: #ff0000;\n",
              "  color: #f1f1f1;\n",
              "}\n",
              "#T_1fcb1_row1_col2 {\n",
              "  background-color: #ffc000;\n",
              "  color: #000000;\n",
              "}\n",
              "#T_1fcb1_row2_col2 {\n",
              "  background-color: #ff1600;\n",
              "  color: #f1f1f1;\n",
              "}\n",
              "#T_1fcb1_row2_col3 {\n",
              "  background-color: #ffc800;\n",
              "  color: #000000;\n",
              "}\n",
              "#T_1fcb1_row3_col1 {\n",
              "  background-color: #ff8000;\n",
              "  color: #f1f1f1;\n",
              "}\n",
              "#T_1fcb1_row3_col2 {\n",
              "  background-color: #ff4c00;\n",
              "  color: #f1f1f1;\n",
              "}\n",
              "#T_1fcb1_row3_col3 {\n",
              "  background-color: #ff4600;\n",
              "  color: #f1f1f1;\n",
              "}\n",
              "#T_1fcb1_row4_col1 {\n",
              "  background-color: #ff2000;\n",
              "  color: #f1f1f1;\n",
              "}\n",
              "</style>\n",
              "<table id=\"T_1fcb1\">\n",
              "  <thead>\n",
              "    <tr>\n",
              "      <th class=\"blank level0\" >&nbsp;</th>\n",
              "      <th id=\"T_1fcb1_level0_col0\" class=\"col_heading level0 col0\" >name</th>\n",
              "      <th id=\"T_1fcb1_level0_col1\" class=\"col_heading level0 col1\" >year</th>\n",
              "      <th id=\"T_1fcb1_level0_col2\" class=\"col_heading level0 col2\" >selling_price</th>\n",
              "      <th id=\"T_1fcb1_level0_col3\" class=\"col_heading level0 col3\" >km_driven</th>\n",
              "      <th id=\"T_1fcb1_level0_col4\" class=\"col_heading level0 col4\" >fuel</th>\n",
              "      <th id=\"T_1fcb1_level0_col5\" class=\"col_heading level0 col5\" >seller_type</th>\n",
              "      <th id=\"T_1fcb1_level0_col6\" class=\"col_heading level0 col6\" >transmission</th>\n",
              "      <th id=\"T_1fcb1_level0_col7\" class=\"col_heading level0 col7\" >owner</th>\n",
              "      <th id=\"T_1fcb1_level0_col8\" class=\"col_heading level0 col8\" >mileage</th>\n",
              "      <th id=\"T_1fcb1_level0_col9\" class=\"col_heading level0 col9\" >engine</th>\n",
              "      <th id=\"T_1fcb1_level0_col10\" class=\"col_heading level0 col10\" >max_power</th>\n",
              "      <th id=\"T_1fcb1_level0_col11\" class=\"col_heading level0 col11\" >torque</th>\n",
              "      <th id=\"T_1fcb1_level0_col12\" class=\"col_heading level0 col12\" >seats</th>\n",
              "    </tr>\n",
              "  </thead>\n",
              "  <tbody>\n",
              "    <tr>\n",
              "      <th id=\"T_1fcb1_level0_row0\" class=\"row_heading level0 row0\" >0</th>\n",
              "      <td id=\"T_1fcb1_row0_col0\" class=\"data row0 col0\" >Maruti Swift Dzire VDI</td>\n",
              "      <td id=\"T_1fcb1_row0_col1\" class=\"data row0 col1\" >2014</td>\n",
              "      <td id=\"T_1fcb1_row0_col2\" class=\"data row0 col2\" >450000</td>\n",
              "      <td id=\"T_1fcb1_row0_col3\" class=\"data row0 col3\" >145500</td>\n",
              "      <td id=\"T_1fcb1_row0_col4\" class=\"data row0 col4\" >Diesel</td>\n",
              "      <td id=\"T_1fcb1_row0_col5\" class=\"data row0 col5\" >Individual</td>\n",
              "      <td id=\"T_1fcb1_row0_col6\" class=\"data row0 col6\" >Manual</td>\n",
              "      <td id=\"T_1fcb1_row0_col7\" class=\"data row0 col7\" >First Owner</td>\n",
              "      <td id=\"T_1fcb1_row0_col8\" class=\"data row0 col8\" >23.4 kmpl</td>\n",
              "      <td id=\"T_1fcb1_row0_col9\" class=\"data row0 col9\" >1248 CC</td>\n",
              "      <td id=\"T_1fcb1_row0_col10\" class=\"data row0 col10\" >74 bhp</td>\n",
              "      <td id=\"T_1fcb1_row0_col11\" class=\"data row0 col11\" >190Nm@ 2000rpm</td>\n",
              "      <td id=\"T_1fcb1_row0_col12\" class=\"data row0 col12\" >5.000000</td>\n",
              "    </tr>\n",
              "    <tr>\n",
              "      <th id=\"T_1fcb1_level0_row1\" class=\"row_heading level0 row1\" >1</th>\n",
              "      <td id=\"T_1fcb1_row1_col0\" class=\"data row1 col0\" >Skoda Rapid 1.5 TDI Ambition</td>\n",
              "      <td id=\"T_1fcb1_row1_col1\" class=\"data row1 col1\" >2014</td>\n",
              "      <td id=\"T_1fcb1_row1_col2\" class=\"data row1 col2\" >370000</td>\n",
              "      <td id=\"T_1fcb1_row1_col3\" class=\"data row1 col3\" >120000</td>\n",
              "      <td id=\"T_1fcb1_row1_col4\" class=\"data row1 col4\" >Diesel</td>\n",
              "      <td id=\"T_1fcb1_row1_col5\" class=\"data row1 col5\" >Individual</td>\n",
              "      <td id=\"T_1fcb1_row1_col6\" class=\"data row1 col6\" >Manual</td>\n",
              "      <td id=\"T_1fcb1_row1_col7\" class=\"data row1 col7\" >Second Owner</td>\n",
              "      <td id=\"T_1fcb1_row1_col8\" class=\"data row1 col8\" >21.14 kmpl</td>\n",
              "      <td id=\"T_1fcb1_row1_col9\" class=\"data row1 col9\" >1498 CC</td>\n",
              "      <td id=\"T_1fcb1_row1_col10\" class=\"data row1 col10\" >103.52 bhp</td>\n",
              "      <td id=\"T_1fcb1_row1_col11\" class=\"data row1 col11\" >250Nm@ 1500-2500rpm</td>\n",
              "      <td id=\"T_1fcb1_row1_col12\" class=\"data row1 col12\" >5.000000</td>\n",
              "    </tr>\n",
              "    <tr>\n",
              "      <th id=\"T_1fcb1_level0_row2\" class=\"row_heading level0 row2\" >2</th>\n",
              "      <td id=\"T_1fcb1_row2_col0\" class=\"data row2 col0\" >Honda City 2017-2020 EXi</td>\n",
              "      <td id=\"T_1fcb1_row2_col1\" class=\"data row2 col1\" >2006</td>\n",
              "      <td id=\"T_1fcb1_row2_col2\" class=\"data row2 col2\" >158000</td>\n",
              "      <td id=\"T_1fcb1_row2_col3\" class=\"data row2 col3\" >140000</td>\n",
              "      <td id=\"T_1fcb1_row2_col4\" class=\"data row2 col4\" >Petrol</td>\n",
              "      <td id=\"T_1fcb1_row2_col5\" class=\"data row2 col5\" >Individual</td>\n",
              "      <td id=\"T_1fcb1_row2_col6\" class=\"data row2 col6\" >Manual</td>\n",
              "      <td id=\"T_1fcb1_row2_col7\" class=\"data row2 col7\" >Third Owner</td>\n",
              "      <td id=\"T_1fcb1_row2_col8\" class=\"data row2 col8\" >17.7 kmpl</td>\n",
              "      <td id=\"T_1fcb1_row2_col9\" class=\"data row2 col9\" >1497 CC</td>\n",
              "      <td id=\"T_1fcb1_row2_col10\" class=\"data row2 col10\" >78 bhp</td>\n",
              "      <td id=\"T_1fcb1_row2_col11\" class=\"data row2 col11\" >12.7@ 2,700(kgm@ rpm)</td>\n",
              "      <td id=\"T_1fcb1_row2_col12\" class=\"data row2 col12\" >5.000000</td>\n",
              "    </tr>\n",
              "    <tr>\n",
              "      <th id=\"T_1fcb1_level0_row3\" class=\"row_heading level0 row3\" >3</th>\n",
              "      <td id=\"T_1fcb1_row3_col0\" class=\"data row3 col0\" >Hyundai i20 Sportz Diesel</td>\n",
              "      <td id=\"T_1fcb1_row3_col1\" class=\"data row3 col1\" >2010</td>\n",
              "      <td id=\"T_1fcb1_row3_col2\" class=\"data row3 col2\" >225000</td>\n",
              "      <td id=\"T_1fcb1_row3_col3\" class=\"data row3 col3\" >127000</td>\n",
              "      <td id=\"T_1fcb1_row3_col4\" class=\"data row3 col4\" >Diesel</td>\n",
              "      <td id=\"T_1fcb1_row3_col5\" class=\"data row3 col5\" >Individual</td>\n",
              "      <td id=\"T_1fcb1_row3_col6\" class=\"data row3 col6\" >Manual</td>\n",
              "      <td id=\"T_1fcb1_row3_col7\" class=\"data row3 col7\" >First Owner</td>\n",
              "      <td id=\"T_1fcb1_row3_col8\" class=\"data row3 col8\" >23.0 kmpl</td>\n",
              "      <td id=\"T_1fcb1_row3_col9\" class=\"data row3 col9\" >1396 CC</td>\n",
              "      <td id=\"T_1fcb1_row3_col10\" class=\"data row3 col10\" >90 bhp</td>\n",
              "      <td id=\"T_1fcb1_row3_col11\" class=\"data row3 col11\" >22.4 kgm at 1750-2750rpm</td>\n",
              "      <td id=\"T_1fcb1_row3_col12\" class=\"data row3 col12\" >5.000000</td>\n",
              "    </tr>\n",
              "    <tr>\n",
              "      <th id=\"T_1fcb1_level0_row4\" class=\"row_heading level0 row4\" >4</th>\n",
              "      <td id=\"T_1fcb1_row4_col0\" class=\"data row4 col0\" >Maruti Swift VXI BSIII</td>\n",
              "      <td id=\"T_1fcb1_row4_col1\" class=\"data row4 col1\" >2007</td>\n",
              "      <td id=\"T_1fcb1_row4_col2\" class=\"data row4 col2\" >130000</td>\n",
              "      <td id=\"T_1fcb1_row4_col3\" class=\"data row4 col3\" >120000</td>\n",
              "      <td id=\"T_1fcb1_row4_col4\" class=\"data row4 col4\" >Petrol</td>\n",
              "      <td id=\"T_1fcb1_row4_col5\" class=\"data row4 col5\" >Individual</td>\n",
              "      <td id=\"T_1fcb1_row4_col6\" class=\"data row4 col6\" >Manual</td>\n",
              "      <td id=\"T_1fcb1_row4_col7\" class=\"data row4 col7\" >First Owner</td>\n",
              "      <td id=\"T_1fcb1_row4_col8\" class=\"data row4 col8\" >16.1 kmpl</td>\n",
              "      <td id=\"T_1fcb1_row4_col9\" class=\"data row4 col9\" >1298 CC</td>\n",
              "      <td id=\"T_1fcb1_row4_col10\" class=\"data row4 col10\" >88.2 bhp</td>\n",
              "      <td id=\"T_1fcb1_row4_col11\" class=\"data row4 col11\" >11.5@ 4,500(kgm@ rpm)</td>\n",
              "      <td id=\"T_1fcb1_row4_col12\" class=\"data row4 col12\" >5.000000</td>\n",
              "    </tr>\n",
              "  </tbody>\n",
              "</table>\n"
            ],
            "text/plain": [
              "<pandas.io.formats.style.Styler at 0x2a0aa0a5bd0>"
            ]
          },
          "execution_count": 2,
          "metadata": {},
          "output_type": "execute_result"
        }
      ],
      "source": [
        "car = pd.read_csv(\"car_dataset.csv\")\n",
        "df = car.copy()\n",
        "df.head().style.background_gradient(cmap = \"autumn\")"
      ]
    },
    {
      "cell_type": "code",
      "execution_count": 3,
      "metadata": {
        "colab": {
          "base_uri": "https://localhost:8080/"
        },
        "id": "okFtNUb3HOz5",
        "outputId": "ffdf82fd-1f68-48fb-fbe8-0d1ff5667589"
      },
      "outputs": [
        {
          "name": "stdout",
          "output_type": "stream",
          "text": [
            "<class 'pandas.core.frame.DataFrame'>\n",
            "RangeIndex: 8128 entries, 0 to 8127\n",
            "Data columns (total 13 columns):\n",
            " #   Column         Non-Null Count  Dtype  \n",
            "---  ------         --------------  -----  \n",
            " 0   name           8128 non-null   object \n",
            " 1   year           8128 non-null   int64  \n",
            " 2   selling_price  8128 non-null   int64  \n",
            " 3   km_driven      8128 non-null   int64  \n",
            " 4   fuel           8128 non-null   object \n",
            " 5   seller_type    8128 non-null   object \n",
            " 6   transmission   8128 non-null   object \n",
            " 7   owner          8128 non-null   object \n",
            " 8   mileage        7907 non-null   object \n",
            " 9   engine         7907 non-null   object \n",
            " 10  max_power      7913 non-null   object \n",
            " 11  torque         7906 non-null   object \n",
            " 12  seats          7907 non-null   float64\n",
            "dtypes: float64(1), int64(3), object(9)\n",
            "memory usage: 825.6+ KB\n"
          ]
        }
      ],
      "source": [
        "df.info()"
      ]
    },
    {
      "cell_type": "code",
      "execution_count": 4,
      "metadata": {
        "id": "XWLHGtrvHOz6"
      },
      "outputs": [],
      "source": [
        "categoric_columns = [\"fuel\", \"transmission\", \"owner\", \"seller_type\"]\n",
        "for column in categoric_columns:\n",
        "    df[column] = df[column].astype(\"category\")"
      ]
    },
    {
      "cell_type": "code",
      "execution_count": 5,
      "metadata": {
        "id": "bGJCXLlIHOz6"
      },
      "outputs": [],
      "source": [
        "#create 'car_brand_name' feature from 'name' feature\n",
        "\n",
        "df[\"car_brand_name\"] = df[\"name\"].str.extract('([^\\s]+)')\n",
        "df[\"car_brand_name\"] = df[\"car_brand_name\"].astype(\"category\")"
      ]
    },
    {
      "cell_type": "code",
      "execution_count": 6,
      "metadata": {
        "id": "cXUxnToZHOz7"
      },
      "outputs": [],
      "source": [
        "#extract values of 'engine' and 'mileage' variables\n",
        "\n",
        "df[\"engine\"] = df[\"engine\"].str.extract('([^\\s]+)').astype(\"float\")\n",
        "df[\"mileage\"] = df[\"mileage\"].str.extract('([^\\s]+)').astype(\"float\")"
      ]
    },
    {
      "cell_type": "code",
      "execution_count": 7,
      "metadata": {
        "id": "F1n72CzUHOz8"
      },
      "outputs": [],
      "source": [
        "#extract values of 'max_power' variable\n",
        "\n",
        "df[\"max_power\"] = df[\"max_power\"].str.extract('([^\\s]+)')\n",
        "df[\"max_power\"] = df[\"max_power\"][~(df[\"max_power\"] == \"bhp\")]\n",
        "df[\"max_power\"] = df[\"max_power\"].astype(\"float\")"
      ]
    },
    {
      "cell_type": "code",
      "execution_count": 8,
      "metadata": {
        "id": "f1VOhGNhHOz9"
      },
      "outputs": [],
      "source": [
        "#create 'car_age' feature from 'year' column\n",
        "\n",
        "df[\"car_age\"] = (datetime.datetime.now().year) - (df[\"year\"])"
      ]
    },
    {
      "cell_type": "code",
      "execution_count": 9,
      "metadata": {
        "id": "pSKUkvudHOz-"
      },
      "outputs": [],
      "source": [
        "df.drop([\"name\", \"year\", \"torque\"], axis = 1, inplace = True)"
      ]
    },
    {
      "cell_type": "code",
      "execution_count": 10,
      "metadata": {
        "colab": {
          "base_uri": "https://localhost:8080/",
          "height": 313
        },
        "id": "XB2AxWkNHOz_",
        "outputId": "bd87a31e-84f1-4e0d-b3c8-d2e7f3da0ceb"
      },
      "outputs": [
        {
          "data": {
            "text/html": [
              "<style type=\"text/css\">\n",
              "#T_f1bbd_row0_col0, #T_f1bbd_row0_col1, #T_f1bbd_row0_col6, #T_f1bbd_row1_col7, #T_f1bbd_row1_col8, #T_f1bbd_row2_col11 {\n",
              "  background-color: #ffff66;\n",
              "  color: #000000;\n",
              "}\n",
              "#T_f1bbd_row0_col7, #T_f1bbd_row0_col8, #T_f1bbd_row0_col9, #T_f1bbd_row0_col11, #T_f1bbd_row1_col1, #T_f1bbd_row1_col9, #T_f1bbd_row1_col11, #T_f1bbd_row2_col9, #T_f1bbd_row3_col9, #T_f1bbd_row4_col0, #T_f1bbd_row4_col1, #T_f1bbd_row4_col6, #T_f1bbd_row4_col9 {\n",
              "  background-color: #008066;\n",
              "  color: #f1f1f1;\n",
              "}\n",
              "#T_f1bbd_row1_col0 {\n",
              "  background-color: #c0e066;\n",
              "  color: #000000;\n",
              "}\n",
              "#T_f1bbd_row1_col6 {\n",
              "  background-color: #b0d866;\n",
              "  color: #000000;\n",
              "}\n",
              "#T_f1bbd_row2_col0 {\n",
              "  background-color: #168a66;\n",
              "  color: #f1f1f1;\n",
              "}\n",
              "#T_f1bbd_row2_col1 {\n",
              "  background-color: #c8e366;\n",
              "  color: #000000;\n",
              "}\n",
              "#T_f1bbd_row2_col6 {\n",
              "  background-color: #389c66;\n",
              "  color: #f1f1f1;\n",
              "}\n",
              "#T_f1bbd_row2_col7 {\n",
              "  background-color: #fefe66;\n",
              "  color: #000000;\n",
              "}\n",
              "#T_f1bbd_row2_col8 {\n",
              "  background-color: #229066;\n",
              "  color: #f1f1f1;\n",
              "}\n",
              "#T_f1bbd_row3_col0 {\n",
              "  background-color: #4ca666;\n",
              "  color: #f1f1f1;\n",
              "}\n",
              "#T_f1bbd_row3_col1 {\n",
              "  background-color: #46a266;\n",
              "  color: #f1f1f1;\n",
              "}\n",
              "#T_f1bbd_row3_col6 {\n",
              "  background-color: #f1f866;\n",
              "  color: #000000;\n",
              "}\n",
              "#T_f1bbd_row3_col7 {\n",
              "  background-color: #97cb66;\n",
              "  color: #000000;\n",
              "}\n",
              "#T_f1bbd_row3_col8 {\n",
              "  background-color: #8ac466;\n",
              "  color: #000000;\n",
              "}\n",
              "#T_f1bbd_row3_col11 {\n",
              "  background-color: #80c066;\n",
              "  color: #000000;\n",
              "}\n",
              "#T_f1bbd_row4_col7 {\n",
              "  background-color: #339966;\n",
              "  color: #f1f1f1;\n",
              "}\n",
              "#T_f1bbd_row4_col8 {\n",
              "  background-color: #7bbd66;\n",
              "  color: #000000;\n",
              "}\n",
              "#T_f1bbd_row4_col11 {\n",
              "  background-color: #e0f066;\n",
              "  color: #000000;\n",
              "}\n",
              "</style>\n",
              "<table id=\"T_f1bbd\">\n",
              "  <thead>\n",
              "    <tr>\n",
              "      <th class=\"blank level0\" >&nbsp;</th>\n",
              "      <th id=\"T_f1bbd_level0_col0\" class=\"col_heading level0 col0\" >selling_price</th>\n",
              "      <th id=\"T_f1bbd_level0_col1\" class=\"col_heading level0 col1\" >km_driven</th>\n",
              "      <th id=\"T_f1bbd_level0_col2\" class=\"col_heading level0 col2\" >fuel</th>\n",
              "      <th id=\"T_f1bbd_level0_col3\" class=\"col_heading level0 col3\" >seller_type</th>\n",
              "      <th id=\"T_f1bbd_level0_col4\" class=\"col_heading level0 col4\" >transmission</th>\n",
              "      <th id=\"T_f1bbd_level0_col5\" class=\"col_heading level0 col5\" >owner</th>\n",
              "      <th id=\"T_f1bbd_level0_col6\" class=\"col_heading level0 col6\" >mileage</th>\n",
              "      <th id=\"T_f1bbd_level0_col7\" class=\"col_heading level0 col7\" >engine</th>\n",
              "      <th id=\"T_f1bbd_level0_col8\" class=\"col_heading level0 col8\" >max_power</th>\n",
              "      <th id=\"T_f1bbd_level0_col9\" class=\"col_heading level0 col9\" >seats</th>\n",
              "      <th id=\"T_f1bbd_level0_col10\" class=\"col_heading level0 col10\" >car_brand_name</th>\n",
              "      <th id=\"T_f1bbd_level0_col11\" class=\"col_heading level0 col11\" >car_age</th>\n",
              "    </tr>\n",
              "  </thead>\n",
              "  <tbody>\n",
              "    <tr>\n",
              "      <th id=\"T_f1bbd_level0_row0\" class=\"row_heading level0 row0\" >0</th>\n",
              "      <td id=\"T_f1bbd_row0_col0\" class=\"data row0 col0\" >450000</td>\n",
              "      <td id=\"T_f1bbd_row0_col1\" class=\"data row0 col1\" >145500</td>\n",
              "      <td id=\"T_f1bbd_row0_col2\" class=\"data row0 col2\" >Diesel</td>\n",
              "      <td id=\"T_f1bbd_row0_col3\" class=\"data row0 col3\" >Individual</td>\n",
              "      <td id=\"T_f1bbd_row0_col4\" class=\"data row0 col4\" >Manual</td>\n",
              "      <td id=\"T_f1bbd_row0_col5\" class=\"data row0 col5\" >First Owner</td>\n",
              "      <td id=\"T_f1bbd_row0_col6\" class=\"data row0 col6\" >23.400000</td>\n",
              "      <td id=\"T_f1bbd_row0_col7\" class=\"data row0 col7\" >1248.000000</td>\n",
              "      <td id=\"T_f1bbd_row0_col8\" class=\"data row0 col8\" >74.000000</td>\n",
              "      <td id=\"T_f1bbd_row0_col9\" class=\"data row0 col9\" >5.000000</td>\n",
              "      <td id=\"T_f1bbd_row0_col10\" class=\"data row0 col10\" >Maruti</td>\n",
              "      <td id=\"T_f1bbd_row0_col11\" class=\"data row0 col11\" >10</td>\n",
              "    </tr>\n",
              "    <tr>\n",
              "      <th id=\"T_f1bbd_level0_row1\" class=\"row_heading level0 row1\" >1</th>\n",
              "      <td id=\"T_f1bbd_row1_col0\" class=\"data row1 col0\" >370000</td>\n",
              "      <td id=\"T_f1bbd_row1_col1\" class=\"data row1 col1\" >120000</td>\n",
              "      <td id=\"T_f1bbd_row1_col2\" class=\"data row1 col2\" >Diesel</td>\n",
              "      <td id=\"T_f1bbd_row1_col3\" class=\"data row1 col3\" >Individual</td>\n",
              "      <td id=\"T_f1bbd_row1_col4\" class=\"data row1 col4\" >Manual</td>\n",
              "      <td id=\"T_f1bbd_row1_col5\" class=\"data row1 col5\" >Second Owner</td>\n",
              "      <td id=\"T_f1bbd_row1_col6\" class=\"data row1 col6\" >21.140000</td>\n",
              "      <td id=\"T_f1bbd_row1_col7\" class=\"data row1 col7\" >1498.000000</td>\n",
              "      <td id=\"T_f1bbd_row1_col8\" class=\"data row1 col8\" >103.520000</td>\n",
              "      <td id=\"T_f1bbd_row1_col9\" class=\"data row1 col9\" >5.000000</td>\n",
              "      <td id=\"T_f1bbd_row1_col10\" class=\"data row1 col10\" >Skoda</td>\n",
              "      <td id=\"T_f1bbd_row1_col11\" class=\"data row1 col11\" >10</td>\n",
              "    </tr>\n",
              "    <tr>\n",
              "      <th id=\"T_f1bbd_level0_row2\" class=\"row_heading level0 row2\" >2</th>\n",
              "      <td id=\"T_f1bbd_row2_col0\" class=\"data row2 col0\" >158000</td>\n",
              "      <td id=\"T_f1bbd_row2_col1\" class=\"data row2 col1\" >140000</td>\n",
              "      <td id=\"T_f1bbd_row2_col2\" class=\"data row2 col2\" >Petrol</td>\n",
              "      <td id=\"T_f1bbd_row2_col3\" class=\"data row2 col3\" >Individual</td>\n",
              "      <td id=\"T_f1bbd_row2_col4\" class=\"data row2 col4\" >Manual</td>\n",
              "      <td id=\"T_f1bbd_row2_col5\" class=\"data row2 col5\" >Third Owner</td>\n",
              "      <td id=\"T_f1bbd_row2_col6\" class=\"data row2 col6\" >17.700000</td>\n",
              "      <td id=\"T_f1bbd_row2_col7\" class=\"data row2 col7\" >1497.000000</td>\n",
              "      <td id=\"T_f1bbd_row2_col8\" class=\"data row2 col8\" >78.000000</td>\n",
              "      <td id=\"T_f1bbd_row2_col9\" class=\"data row2 col9\" >5.000000</td>\n",
              "      <td id=\"T_f1bbd_row2_col10\" class=\"data row2 col10\" >Honda</td>\n",
              "      <td id=\"T_f1bbd_row2_col11\" class=\"data row2 col11\" >18</td>\n",
              "    </tr>\n",
              "    <tr>\n",
              "      <th id=\"T_f1bbd_level0_row3\" class=\"row_heading level0 row3\" >3</th>\n",
              "      <td id=\"T_f1bbd_row3_col0\" class=\"data row3 col0\" >225000</td>\n",
              "      <td id=\"T_f1bbd_row3_col1\" class=\"data row3 col1\" >127000</td>\n",
              "      <td id=\"T_f1bbd_row3_col2\" class=\"data row3 col2\" >Diesel</td>\n",
              "      <td id=\"T_f1bbd_row3_col3\" class=\"data row3 col3\" >Individual</td>\n",
              "      <td id=\"T_f1bbd_row3_col4\" class=\"data row3 col4\" >Manual</td>\n",
              "      <td id=\"T_f1bbd_row3_col5\" class=\"data row3 col5\" >First Owner</td>\n",
              "      <td id=\"T_f1bbd_row3_col6\" class=\"data row3 col6\" >23.000000</td>\n",
              "      <td id=\"T_f1bbd_row3_col7\" class=\"data row3 col7\" >1396.000000</td>\n",
              "      <td id=\"T_f1bbd_row3_col8\" class=\"data row3 col8\" >90.000000</td>\n",
              "      <td id=\"T_f1bbd_row3_col9\" class=\"data row3 col9\" >5.000000</td>\n",
              "      <td id=\"T_f1bbd_row3_col10\" class=\"data row3 col10\" >Hyundai</td>\n",
              "      <td id=\"T_f1bbd_row3_col11\" class=\"data row3 col11\" >14</td>\n",
              "    </tr>\n",
              "    <tr>\n",
              "      <th id=\"T_f1bbd_level0_row4\" class=\"row_heading level0 row4\" >4</th>\n",
              "      <td id=\"T_f1bbd_row4_col0\" class=\"data row4 col0\" >130000</td>\n",
              "      <td id=\"T_f1bbd_row4_col1\" class=\"data row4 col1\" >120000</td>\n",
              "      <td id=\"T_f1bbd_row4_col2\" class=\"data row4 col2\" >Petrol</td>\n",
              "      <td id=\"T_f1bbd_row4_col3\" class=\"data row4 col3\" >Individual</td>\n",
              "      <td id=\"T_f1bbd_row4_col4\" class=\"data row4 col4\" >Manual</td>\n",
              "      <td id=\"T_f1bbd_row4_col5\" class=\"data row4 col5\" >First Owner</td>\n",
              "      <td id=\"T_f1bbd_row4_col6\" class=\"data row4 col6\" >16.100000</td>\n",
              "      <td id=\"T_f1bbd_row4_col7\" class=\"data row4 col7\" >1298.000000</td>\n",
              "      <td id=\"T_f1bbd_row4_col8\" class=\"data row4 col8\" >88.200000</td>\n",
              "      <td id=\"T_f1bbd_row4_col9\" class=\"data row4 col9\" >5.000000</td>\n",
              "      <td id=\"T_f1bbd_row4_col10\" class=\"data row4 col10\" >Maruti</td>\n",
              "      <td id=\"T_f1bbd_row4_col11\" class=\"data row4 col11\" >17</td>\n",
              "    </tr>\n",
              "  </tbody>\n",
              "</table>\n"
            ],
            "text/plain": [
              "<pandas.io.formats.style.Styler at 0x2a0aa3783d0>"
            ]
          },
          "execution_count": 10,
          "metadata": {},
          "output_type": "execute_result"
        }
      ],
      "source": [
        "df.head().style.background_gradient(cmap = \"summer\")"
      ]
    },
    {
      "cell_type": "code",
      "execution_count": 11,
      "metadata": {
        "colab": {
          "base_uri": "https://localhost:8080/"
        },
        "id": "sRTQyIJOHOz_",
        "outputId": "0e3404d5-d27d-4b07-99d2-9f025e67829b"
      },
      "outputs": [
        {
          "data": {
            "text/plain": [
              "selling_price       0\n",
              "km_driven           0\n",
              "fuel                0\n",
              "seller_type         0\n",
              "transmission        0\n",
              "owner               0\n",
              "mileage           221\n",
              "engine            221\n",
              "max_power         216\n",
              "seats             221\n",
              "car_brand_name      0\n",
              "car_age             0\n",
              "dtype: int64"
            ]
          },
          "execution_count": 11,
          "metadata": {},
          "output_type": "execute_result"
        }
      ],
      "source": [
        "# check whether there are null values in the dataset\n",
        "df.isnull().sum()"
      ]
    },
    {
      "cell_type": "code",
      "execution_count": 12,
      "metadata": {
        "colab": {
          "base_uri": "https://localhost:8080/",
          "height": 289
        },
        "id": "vMuy6pKpHO0A",
        "outputId": "b9cfef9e-ce5b-4bfd-9fea-c3487fcdd175"
      },
      "outputs": [
        {
          "data": {
            "text/html": [
              "<style type=\"text/css\">\n",
              "#T_f8594_row0_col0, #T_f8594_row0_col1, #T_f8594_row0_col2, #T_f8594_row0_col3, #T_f8594_row0_col4, #T_f8594_row0_col5, #T_f8594_row0_col6, #T_f8594_row0_col7, #T_f8594_row1_col0, #T_f8594_row6_col0 {\n",
              "  background-color: #fde725;\n",
              "  color: #000000;\n",
              "}\n",
              "#T_f8594_row1_col1 {\n",
              "  background-color: #482878;\n",
              "  color: #f1f1f1;\n",
              "}\n",
              "#T_f8594_row1_col2 {\n",
              "  background-color: #481a6c;\n",
              "  color: #f1f1f1;\n",
              "}\n",
              "#T_f8594_row1_col3, #T_f8594_row2_col0, #T_f8594_row2_col1, #T_f8594_row2_col2, #T_f8594_row2_col3, #T_f8594_row2_col4, #T_f8594_row2_col5, #T_f8594_row2_col6, #T_f8594_row2_col7, #T_f8594_row3_col0, #T_f8594_row3_col1, #T_f8594_row3_col2, #T_f8594_row3_col5, #T_f8594_row3_col6, #T_f8594_row3_col7, #T_f8594_row4_col1, #T_f8594_row4_col2, #T_f8594_row4_col3, #T_f8594_row4_col4, #T_f8594_row4_col5, #T_f8594_row4_col6, #T_f8594_row4_col7, #T_f8594_row5_col0, #T_f8594_row5_col1, #T_f8594_row5_col2, #T_f8594_row5_col3, #T_f8594_row5_col4, #T_f8594_row5_col5, #T_f8594_row5_col6, #T_f8594_row5_col7, #T_f8594_row6_col1, #T_f8594_row6_col2, #T_f8594_row6_col3, #T_f8594_row6_col4, #T_f8594_row6_col5, #T_f8594_row6_col6, #T_f8594_row6_col7 {\n",
              "  background-color: #440154;\n",
              "  color: #f1f1f1;\n",
              "}\n",
              "#T_f8594_row1_col4 {\n",
              "  background-color: #46307e;\n",
              "  color: #f1f1f1;\n",
              "}\n",
              "#T_f8594_row1_col5 {\n",
              "  background-color: #472f7d;\n",
              "  color: #f1f1f1;\n",
              "}\n",
              "#T_f8594_row1_col6 {\n",
              "  background-color: #46337f;\n",
              "  color: #f1f1f1;\n",
              "}\n",
              "#T_f8594_row1_col7 {\n",
              "  background-color: #3d4e8a;\n",
              "  color: #f1f1f1;\n",
              "}\n",
              "#T_f8594_row3_col3, #T_f8594_row4_col0 {\n",
              "  background-color: #46085c;\n",
              "  color: #f1f1f1;\n",
              "}\n",
              "#T_f8594_row3_col4 {\n",
              "  background-color: #440256;\n",
              "  color: #f1f1f1;\n",
              "}\n",
              "</style>\n",
              "<table id=\"T_f8594\">\n",
              "  <thead>\n",
              "    <tr>\n",
              "      <th class=\"blank level0\" >&nbsp;</th>\n",
              "      <th id=\"T_f8594_level0_col0\" class=\"col_heading level0 col0\" >count</th>\n",
              "      <th id=\"T_f8594_level0_col1\" class=\"col_heading level0 col1\" >mean</th>\n",
              "      <th id=\"T_f8594_level0_col2\" class=\"col_heading level0 col2\" >std</th>\n",
              "      <th id=\"T_f8594_level0_col3\" class=\"col_heading level0 col3\" >min</th>\n",
              "      <th id=\"T_f8594_level0_col4\" class=\"col_heading level0 col4\" >25%</th>\n",
              "      <th id=\"T_f8594_level0_col5\" class=\"col_heading level0 col5\" >50%</th>\n",
              "      <th id=\"T_f8594_level0_col6\" class=\"col_heading level0 col6\" >75%</th>\n",
              "      <th id=\"T_f8594_level0_col7\" class=\"col_heading level0 col7\" >max</th>\n",
              "    </tr>\n",
              "  </thead>\n",
              "  <tbody>\n",
              "    <tr>\n",
              "      <th id=\"T_f8594_level0_row0\" class=\"row_heading level0 row0\" >selling_price</th>\n",
              "      <td id=\"T_f8594_row0_col0\" class=\"data row0 col0\" >8128.000000</td>\n",
              "      <td id=\"T_f8594_row0_col1\" class=\"data row0 col1\" >638271.807702</td>\n",
              "      <td id=\"T_f8594_row0_col2\" class=\"data row0 col2\" >806253.403508</td>\n",
              "      <td id=\"T_f8594_row0_col3\" class=\"data row0 col3\" >29999.000000</td>\n",
              "      <td id=\"T_f8594_row0_col4\" class=\"data row0 col4\" >254999.000000</td>\n",
              "      <td id=\"T_f8594_row0_col5\" class=\"data row0 col5\" >450000.000000</td>\n",
              "      <td id=\"T_f8594_row0_col6\" class=\"data row0 col6\" >675000.000000</td>\n",
              "      <td id=\"T_f8594_row0_col7\" class=\"data row0 col7\" >10000000.000000</td>\n",
              "    </tr>\n",
              "    <tr>\n",
              "      <th id=\"T_f8594_level0_row1\" class=\"row_heading level0 row1\" >km_driven</th>\n",
              "      <td id=\"T_f8594_row1_col0\" class=\"data row1 col0\" >8128.000000</td>\n",
              "      <td id=\"T_f8594_row1_col1\" class=\"data row1 col1\" >69819.510827</td>\n",
              "      <td id=\"T_f8594_row1_col2\" class=\"data row1 col2\" >56550.554958</td>\n",
              "      <td id=\"T_f8594_row1_col3\" class=\"data row1 col3\" >1.000000</td>\n",
              "      <td id=\"T_f8594_row1_col4\" class=\"data row1 col4\" >35000.000000</td>\n",
              "      <td id=\"T_f8594_row1_col5\" class=\"data row1 col5\" >60000.000000</td>\n",
              "      <td id=\"T_f8594_row1_col6\" class=\"data row1 col6\" >98000.000000</td>\n",
              "      <td id=\"T_f8594_row1_col7\" class=\"data row1 col7\" >2360457.000000</td>\n",
              "    </tr>\n",
              "    <tr>\n",
              "      <th id=\"T_f8594_level0_row2\" class=\"row_heading level0 row2\" >mileage</th>\n",
              "      <td id=\"T_f8594_row2_col0\" class=\"data row2 col0\" >7907.000000</td>\n",
              "      <td id=\"T_f8594_row2_col1\" class=\"data row2 col1\" >19.418783</td>\n",
              "      <td id=\"T_f8594_row2_col2\" class=\"data row2 col2\" >4.037145</td>\n",
              "      <td id=\"T_f8594_row2_col3\" class=\"data row2 col3\" >0.000000</td>\n",
              "      <td id=\"T_f8594_row2_col4\" class=\"data row2 col4\" >16.780000</td>\n",
              "      <td id=\"T_f8594_row2_col5\" class=\"data row2 col5\" >19.300000</td>\n",
              "      <td id=\"T_f8594_row2_col6\" class=\"data row2 col6\" >22.320000</td>\n",
              "      <td id=\"T_f8594_row2_col7\" class=\"data row2 col7\" >42.000000</td>\n",
              "    </tr>\n",
              "    <tr>\n",
              "      <th id=\"T_f8594_level0_row3\" class=\"row_heading level0 row3\" >engine</th>\n",
              "      <td id=\"T_f8594_row3_col0\" class=\"data row3 col0\" >7907.000000</td>\n",
              "      <td id=\"T_f8594_row3_col1\" class=\"data row3 col1\" >1458.625016</td>\n",
              "      <td id=\"T_f8594_row3_col2\" class=\"data row3 col2\" >503.916303</td>\n",
              "      <td id=\"T_f8594_row3_col3\" class=\"data row3 col3\" >624.000000</td>\n",
              "      <td id=\"T_f8594_row3_col4\" class=\"data row3 col4\" >1197.000000</td>\n",
              "      <td id=\"T_f8594_row3_col5\" class=\"data row3 col5\" >1248.000000</td>\n",
              "      <td id=\"T_f8594_row3_col6\" class=\"data row3 col6\" >1582.000000</td>\n",
              "      <td id=\"T_f8594_row3_col7\" class=\"data row3 col7\" >3604.000000</td>\n",
              "    </tr>\n",
              "    <tr>\n",
              "      <th id=\"T_f8594_level0_row4\" class=\"row_heading level0 row4\" >max_power</th>\n",
              "      <td id=\"T_f8594_row4_col0\" class=\"data row4 col0\" >7912.000000</td>\n",
              "      <td id=\"T_f8594_row4_col1\" class=\"data row4 col1\" >91.517919</td>\n",
              "      <td id=\"T_f8594_row4_col2\" class=\"data row4 col2\" >35.822499</td>\n",
              "      <td id=\"T_f8594_row4_col3\" class=\"data row4 col3\" >0.000000</td>\n",
              "      <td id=\"T_f8594_row4_col4\" class=\"data row4 col4\" >68.050000</td>\n",
              "      <td id=\"T_f8594_row4_col5\" class=\"data row4 col5\" >82.000000</td>\n",
              "      <td id=\"T_f8594_row4_col6\" class=\"data row4 col6\" >102.000000</td>\n",
              "      <td id=\"T_f8594_row4_col7\" class=\"data row4 col7\" >400.000000</td>\n",
              "    </tr>\n",
              "    <tr>\n",
              "      <th id=\"T_f8594_level0_row5\" class=\"row_heading level0 row5\" >seats</th>\n",
              "      <td id=\"T_f8594_row5_col0\" class=\"data row5 col0\" >7907.000000</td>\n",
              "      <td id=\"T_f8594_row5_col1\" class=\"data row5 col1\" >5.416719</td>\n",
              "      <td id=\"T_f8594_row5_col2\" class=\"data row5 col2\" >0.959588</td>\n",
              "      <td id=\"T_f8594_row5_col3\" class=\"data row5 col3\" >2.000000</td>\n",
              "      <td id=\"T_f8594_row5_col4\" class=\"data row5 col4\" >5.000000</td>\n",
              "      <td id=\"T_f8594_row5_col5\" class=\"data row5 col5\" >5.000000</td>\n",
              "      <td id=\"T_f8594_row5_col6\" class=\"data row5 col6\" >5.000000</td>\n",
              "      <td id=\"T_f8594_row5_col7\" class=\"data row5 col7\" >14.000000</td>\n",
              "    </tr>\n",
              "    <tr>\n",
              "      <th id=\"T_f8594_level0_row6\" class=\"row_heading level0 row6\" >car_age</th>\n",
              "      <td id=\"T_f8594_row6_col0\" class=\"data row6 col0\" >8128.000000</td>\n",
              "      <td id=\"T_f8594_row6_col1\" class=\"data row6 col1\" >10.195989</td>\n",
              "      <td id=\"T_f8594_row6_col2\" class=\"data row6 col2\" >4.044249</td>\n",
              "      <td id=\"T_f8594_row6_col3\" class=\"data row6 col3\" >4.000000</td>\n",
              "      <td id=\"T_f8594_row6_col4\" class=\"data row6 col4\" >7.000000</td>\n",
              "      <td id=\"T_f8594_row6_col5\" class=\"data row6 col5\" >9.000000</td>\n",
              "      <td id=\"T_f8594_row6_col6\" class=\"data row6 col6\" >13.000000</td>\n",
              "      <td id=\"T_f8594_row6_col7\" class=\"data row6 col7\" >41.000000</td>\n",
              "    </tr>\n",
              "  </tbody>\n",
              "</table>\n"
            ],
            "text/plain": [
              "<pandas.io.formats.style.Styler at 0x2a0a9fb0310>"
            ]
          },
          "execution_count": 12,
          "metadata": {},
          "output_type": "execute_result"
        }
      ],
      "source": [
        "df.describe().T.style.background_gradient(cmap = \"viridis\")"
      ]
    },
    {
      "cell_type": "code",
      "execution_count": 13,
      "metadata": {
        "colab": {
          "base_uri": "https://localhost:8080/",
          "height": 206
        },
        "id": "bheEs6dFHO0A",
        "outputId": "77fd7f5d-8ed1-4e19-fdf5-899412751395"
      },
      "outputs": [
        {
          "data": {
            "text/html": [
              "<div>\n",
              "<style scoped>\n",
              "    .dataframe tbody tr th:only-of-type {\n",
              "        vertical-align: middle;\n",
              "    }\n",
              "\n",
              "    .dataframe tbody tr th {\n",
              "        vertical-align: top;\n",
              "    }\n",
              "\n",
              "    .dataframe thead th {\n",
              "        text-align: right;\n",
              "    }\n",
              "</style>\n",
              "<table border=\"1\" class=\"dataframe\">\n",
              "  <thead>\n",
              "    <tr style=\"text-align: right;\">\n",
              "      <th></th>\n",
              "      <th>count</th>\n",
              "      <th>unique</th>\n",
              "      <th>top</th>\n",
              "      <th>freq</th>\n",
              "    </tr>\n",
              "  </thead>\n",
              "  <tbody>\n",
              "    <tr>\n",
              "      <th>fuel</th>\n",
              "      <td>8128</td>\n",
              "      <td>4</td>\n",
              "      <td>Diesel</td>\n",
              "      <td>4402</td>\n",
              "    </tr>\n",
              "    <tr>\n",
              "      <th>seller_type</th>\n",
              "      <td>8128</td>\n",
              "      <td>3</td>\n",
              "      <td>Individual</td>\n",
              "      <td>6766</td>\n",
              "    </tr>\n",
              "    <tr>\n",
              "      <th>transmission</th>\n",
              "      <td>8128</td>\n",
              "      <td>2</td>\n",
              "      <td>Manual</td>\n",
              "      <td>7078</td>\n",
              "    </tr>\n",
              "    <tr>\n",
              "      <th>owner</th>\n",
              "      <td>8128</td>\n",
              "      <td>5</td>\n",
              "      <td>First Owner</td>\n",
              "      <td>5289</td>\n",
              "    </tr>\n",
              "    <tr>\n",
              "      <th>car_brand_name</th>\n",
              "      <td>8128</td>\n",
              "      <td>32</td>\n",
              "      <td>Maruti</td>\n",
              "      <td>2448</td>\n",
              "    </tr>\n",
              "  </tbody>\n",
              "</table>\n",
              "</div>"
            ],
            "text/plain": [
              "               count unique          top  freq\n",
              "fuel            8128      4       Diesel  4402\n",
              "seller_type     8128      3   Individual  6766\n",
              "transmission    8128      2       Manual  7078\n",
              "owner           8128      5  First Owner  5289\n",
              "car_brand_name  8128     32       Maruti  2448"
            ]
          },
          "execution_count": 13,
          "metadata": {},
          "output_type": "execute_result"
        }
      ],
      "source": [
        "df.describe(include = \"category\").T"
      ]
    },
    {
      "cell_type": "code",
      "execution_count": 14,
      "metadata": {
        "colab": {
          "base_uri": "https://localhost:8080/",
          "height": 313
        },
        "id": "vl5S3eYMHO0B",
        "outputId": "5c7aff56-1045-4da2-d8e4-1014c881712c"
      },
      "outputs": [
        {
          "data": {
            "text/html": [
              "<div>\n",
              "<style scoped>\n",
              "    .dataframe tbody tr th:only-of-type {\n",
              "        vertical-align: middle;\n",
              "    }\n",
              "\n",
              "    .dataframe tbody tr th {\n",
              "        vertical-align: top;\n",
              "    }\n",
              "\n",
              "    .dataframe thead th {\n",
              "        text-align: right;\n",
              "    }\n",
              "</style>\n",
              "<table border=\"1\" class=\"dataframe\">\n",
              "  <thead>\n",
              "    <tr style=\"text-align: right;\">\n",
              "      <th></th>\n",
              "      <th>selling_price</th>\n",
              "      <th>km_driven</th>\n",
              "      <th>fuel</th>\n",
              "      <th>seller_type</th>\n",
              "      <th>transmission</th>\n",
              "      <th>owner</th>\n",
              "      <th>mileage</th>\n",
              "      <th>engine</th>\n",
              "      <th>max_power</th>\n",
              "      <th>seats</th>\n",
              "      <th>car_brand_name</th>\n",
              "      <th>car_age</th>\n",
              "    </tr>\n",
              "  </thead>\n",
              "  <tbody>\n",
              "    <tr>\n",
              "      <th>0</th>\n",
              "      <td>450000</td>\n",
              "      <td>145500</td>\n",
              "      <td>Diesel</td>\n",
              "      <td>Individual</td>\n",
              "      <td>Manual</td>\n",
              "      <td>First Owner</td>\n",
              "      <td>23.40</td>\n",
              "      <td>1248.0</td>\n",
              "      <td>74.00</td>\n",
              "      <td>5.0</td>\n",
              "      <td>Maruti</td>\n",
              "      <td>10</td>\n",
              "    </tr>\n",
              "    <tr>\n",
              "      <th>1</th>\n",
              "      <td>370000</td>\n",
              "      <td>120000</td>\n",
              "      <td>Diesel</td>\n",
              "      <td>Individual</td>\n",
              "      <td>Manual</td>\n",
              "      <td>Second Owner</td>\n",
              "      <td>21.14</td>\n",
              "      <td>1498.0</td>\n",
              "      <td>103.52</td>\n",
              "      <td>5.0</td>\n",
              "      <td>Skoda</td>\n",
              "      <td>10</td>\n",
              "    </tr>\n",
              "    <tr>\n",
              "      <th>2</th>\n",
              "      <td>158000</td>\n",
              "      <td>140000</td>\n",
              "      <td>Petrol</td>\n",
              "      <td>Individual</td>\n",
              "      <td>Manual</td>\n",
              "      <td>Third Owner</td>\n",
              "      <td>17.70</td>\n",
              "      <td>1497.0</td>\n",
              "      <td>78.00</td>\n",
              "      <td>5.0</td>\n",
              "      <td>Honda</td>\n",
              "      <td>18</td>\n",
              "    </tr>\n",
              "    <tr>\n",
              "      <th>3</th>\n",
              "      <td>225000</td>\n",
              "      <td>127000</td>\n",
              "      <td>Diesel</td>\n",
              "      <td>Individual</td>\n",
              "      <td>Manual</td>\n",
              "      <td>First Owner</td>\n",
              "      <td>23.00</td>\n",
              "      <td>1396.0</td>\n",
              "      <td>90.00</td>\n",
              "      <td>5.0</td>\n",
              "      <td>Hyundai</td>\n",
              "      <td>14</td>\n",
              "    </tr>\n",
              "    <tr>\n",
              "      <th>4</th>\n",
              "      <td>130000</td>\n",
              "      <td>120000</td>\n",
              "      <td>Petrol</td>\n",
              "      <td>Individual</td>\n",
              "      <td>Manual</td>\n",
              "      <td>First Owner</td>\n",
              "      <td>16.10</td>\n",
              "      <td>1298.0</td>\n",
              "      <td>88.20</td>\n",
              "      <td>5.0</td>\n",
              "      <td>Maruti</td>\n",
              "      <td>17</td>\n",
              "    </tr>\n",
              "  </tbody>\n",
              "</table>\n",
              "</div>"
            ],
            "text/plain": [
              "   selling_price  km_driven    fuel seller_type transmission         owner  \\\n",
              "0         450000     145500  Diesel  Individual       Manual   First Owner   \n",
              "1         370000     120000  Diesel  Individual       Manual  Second Owner   \n",
              "2         158000     140000  Petrol  Individual       Manual   Third Owner   \n",
              "3         225000     127000  Diesel  Individual       Manual   First Owner   \n",
              "4         130000     120000  Petrol  Individual       Manual   First Owner   \n",
              "\n",
              "   mileage  engine  max_power  seats car_brand_name  car_age  \n",
              "0    23.40  1248.0      74.00    5.0         Maruti       10  \n",
              "1    21.14  1498.0     103.52    5.0          Skoda       10  \n",
              "2    17.70  1497.0      78.00    5.0          Honda       18  \n",
              "3    23.00  1396.0      90.00    5.0        Hyundai       14  \n",
              "4    16.10  1298.0      88.20    5.0         Maruti       17  "
            ]
          },
          "execution_count": 14,
          "metadata": {},
          "output_type": "execute_result"
        }
      ],
      "source": [
        "df.head()"
      ]
    },
    {
      "cell_type": "code",
      "execution_count": 15,
      "metadata": {
        "id": "oZEppusaHO0B"
      },
      "outputs": [],
      "source": [
        "#fill null values with median (numeric) and frequent values (categoric)\n",
        "\n",
        "numeric_data = [column for column in df.select_dtypes([\"int\", \"float\"])]\n",
        "categoric_data = [column for column in df.select_dtypes(exclude = [\"int\", \"float\"])]\n",
        "\n",
        "for col in numeric_data:\n",
        "    df[col].fillna(df[col].median(), inplace = True)\n",
        "\n",
        "#replace missing values in each categorical column with the most frequent value\n",
        "for col in categoric_data:\n",
        "    df[col].fillna(df[col].value_counts().index[0], inplace = True)"
      ]
    },
    {
      "cell_type": "code",
      "execution_count": 16,
      "metadata": {
        "colab": {
          "base_uri": "https://localhost:8080/"
        },
        "id": "QGAzaDF0HO0C",
        "outputId": "560a621b-698b-4c21-89ba-7c9d6c669a13"
      },
      "outputs": [
        {
          "data": {
            "text/plain": [
              "0"
            ]
          },
          "execution_count": 16,
          "metadata": {},
          "output_type": "execute_result"
        }
      ],
      "source": [
        "#check null values again\n",
        "\n",
        "df.isnull().sum().sum()"
      ]
    },
    {
      "cell_type": "code",
      "execution_count": 17,
      "metadata": {
        "colab": {
          "base_uri": "https://localhost:8080/"
        },
        "id": "FKd8XjWJHO0C",
        "outputId": "9b9ee56d-78dd-47e5-e085-f5f369f50200"
      },
      "outputs": [
        {
          "name": "stdout",
          "output_type": "stream",
          "text": [
            "Class frequencies of 'transmission' variable: \n",
            "\n",
            " Manual       7078\n",
            "Automatic    1050\n",
            "Name: transmission, dtype: int64\n",
            "_____________________________________________________________________________________\n",
            "Class frequencies of 'seller_type' variable: \n",
            "\n",
            " Individual          6766\n",
            "Dealer              1126\n",
            "Trustmark Dealer     236\n",
            "Name: seller_type, dtype: int64\n",
            "_____________________________________________________________________________________\n",
            "Class frequencies of 'owner' variable: \n",
            "\n",
            " First Owner             5289\n",
            "Second Owner            2105\n",
            "Third Owner              555\n",
            "Fourth & Above Owner     174\n",
            "Test Drive Car             5\n",
            "Name: owner, dtype: int64\n",
            "_____________________________________________________________________________________\n",
            "Class frequencies of 'car_brand_name' variable: \n",
            "\n",
            " Maruti           2448\n",
            "Hyundai          1415\n",
            "Mahindra          772\n",
            "Tata              734\n",
            "Toyota            488\n",
            "Honda             467\n",
            "Ford              397\n",
            "Chevrolet         230\n",
            "Renault           228\n",
            "Volkswagen        186\n",
            "BMW               120\n",
            "Skoda             105\n",
            "Nissan             81\n",
            "Jaguar             71\n",
            "Volvo              67\n",
            "Datsun             65\n",
            "Mercedes-Benz      54\n",
            "Fiat               47\n",
            "Audi               40\n",
            "Lexus              34\n",
            "Jeep               31\n",
            "Mitsubishi         14\n",
            "Land                6\n",
            "Force               6\n",
            "Isuzu               5\n",
            "Kia                 4\n",
            "Ambassador          4\n",
            "MG                  3\n",
            "Daewoo              3\n",
            "Opel                1\n",
            "Peugeot             1\n",
            "Ashok               1\n",
            "Name: car_brand_name, dtype: int64\n"
          ]
        }
      ],
      "source": [
        "#get class frequencies of some variables\n",
        "\n",
        "print(\"Class frequencies of 'transmission' variable: \\n\\n\", df[\"transmission\"].value_counts())\n",
        "\n",
        "print(\"_____________________________________________________________________________________\")\n",
        "\n",
        "print(\"Class frequencies of 'seller_type' variable: \\n\\n\", df[\"seller_type\"].value_counts())\n",
        "\n",
        "print(\"_____________________________________________________________________________________\")\n",
        "\n",
        "print(\"Class frequencies of 'owner' variable: \\n\\n\", df[\"owner\"].value_counts())\n",
        "\n",
        "print(\"_____________________________________________________________________________________\")\n",
        "\n",
        "print(\"Class frequencies of 'car_brand_name' variable: \\n\\n\", df[\"car_brand_name\"].value_counts())"
      ]
    },
    {
      "cell_type": "code",
      "execution_count": 18,
      "metadata": {
        "id": "RhpkemJuHO0D"
      },
      "outputs": [],
      "source": [
        "# #check correlation between the variables of dataset\n",
        "\n",
        "# df.corr().style.background_gradient(cmap = \"copper\")"
      ]
    },
    {
      "cell_type": "code",
      "execution_count": 19,
      "metadata": {
        "colab": {
          "base_uri": "https://localhost:8080/"
        },
        "id": "wRtmqQ7tHO0D",
        "outputId": "ad429d11-0e3b-4795-ec15-c560e3da1e37"
      },
      "outputs": [
        {
          "name": "stdout",
          "output_type": "stream",
          "text": [
            "Basic descriptive statistics of the target variable - 'selling_price': \n",
            "\n",
            " count    8.128000e+03\n",
            "mean     6.382718e+05\n",
            "std      8.062534e+05\n",
            "min      2.999900e+04\n",
            "25%      2.549990e+05\n",
            "50%      4.500000e+05\n",
            "75%      6.750000e+05\n",
            "max      1.000000e+07\n",
            "Name: selling_price, dtype: float64\n"
          ]
        }
      ],
      "source": [
        "print(\"Basic descriptive statistics of the target variable - 'selling_price': \\n\\n\",\n",
        "      df[\"selling_price\"].describe())"
      ]
    },
    {
      "cell_type": "code",
      "execution_count": 20,
      "metadata": {
        "colab": {
          "base_uri": "https://localhost:8080/",
          "height": 313
        },
        "id": "RbvtBbR2HO0D",
        "outputId": "9fc638d4-a03b-4801-8720-44aa5a459059"
      },
      "outputs": [
        {
          "data": {
            "text/html": [
              "<div>\n",
              "<style scoped>\n",
              "    .dataframe tbody tr th:only-of-type {\n",
              "        vertical-align: middle;\n",
              "    }\n",
              "\n",
              "    .dataframe tbody tr th {\n",
              "        vertical-align: top;\n",
              "    }\n",
              "\n",
              "    .dataframe thead th {\n",
              "        text-align: right;\n",
              "    }\n",
              "</style>\n",
              "<table border=\"1\" class=\"dataframe\">\n",
              "  <thead>\n",
              "    <tr style=\"text-align: right;\">\n",
              "      <th></th>\n",
              "      <th>selling_price</th>\n",
              "      <th>km_driven</th>\n",
              "      <th>fuel</th>\n",
              "      <th>seller_type</th>\n",
              "      <th>transmission</th>\n",
              "      <th>owner</th>\n",
              "      <th>mileage</th>\n",
              "      <th>engine</th>\n",
              "      <th>max_power</th>\n",
              "      <th>seats</th>\n",
              "      <th>car_brand_name</th>\n",
              "      <th>car_age</th>\n",
              "    </tr>\n",
              "  </thead>\n",
              "  <tbody>\n",
              "    <tr>\n",
              "      <th>0</th>\n",
              "      <td>450000</td>\n",
              "      <td>145500</td>\n",
              "      <td>Diesel</td>\n",
              "      <td>Individual</td>\n",
              "      <td>Manual</td>\n",
              "      <td>First Owner</td>\n",
              "      <td>23.40</td>\n",
              "      <td>1248.0</td>\n",
              "      <td>74.00</td>\n",
              "      <td>5.0</td>\n",
              "      <td>Maruti</td>\n",
              "      <td>10</td>\n",
              "    </tr>\n",
              "    <tr>\n",
              "      <th>1</th>\n",
              "      <td>370000</td>\n",
              "      <td>120000</td>\n",
              "      <td>Diesel</td>\n",
              "      <td>Individual</td>\n",
              "      <td>Manual</td>\n",
              "      <td>Second Owner</td>\n",
              "      <td>21.14</td>\n",
              "      <td>1498.0</td>\n",
              "      <td>103.52</td>\n",
              "      <td>5.0</td>\n",
              "      <td>Skoda</td>\n",
              "      <td>10</td>\n",
              "    </tr>\n",
              "    <tr>\n",
              "      <th>2</th>\n",
              "      <td>158000</td>\n",
              "      <td>140000</td>\n",
              "      <td>Petrol</td>\n",
              "      <td>Individual</td>\n",
              "      <td>Manual</td>\n",
              "      <td>Third Owner</td>\n",
              "      <td>17.70</td>\n",
              "      <td>1497.0</td>\n",
              "      <td>78.00</td>\n",
              "      <td>5.0</td>\n",
              "      <td>Honda</td>\n",
              "      <td>18</td>\n",
              "    </tr>\n",
              "    <tr>\n",
              "      <th>3</th>\n",
              "      <td>225000</td>\n",
              "      <td>127000</td>\n",
              "      <td>Diesel</td>\n",
              "      <td>Individual</td>\n",
              "      <td>Manual</td>\n",
              "      <td>First Owner</td>\n",
              "      <td>23.00</td>\n",
              "      <td>1396.0</td>\n",
              "      <td>90.00</td>\n",
              "      <td>5.0</td>\n",
              "      <td>Hyundai</td>\n",
              "      <td>14</td>\n",
              "    </tr>\n",
              "    <tr>\n",
              "      <th>4</th>\n",
              "      <td>130000</td>\n",
              "      <td>120000</td>\n",
              "      <td>Petrol</td>\n",
              "      <td>Individual</td>\n",
              "      <td>Manual</td>\n",
              "      <td>First Owner</td>\n",
              "      <td>16.10</td>\n",
              "      <td>1298.0</td>\n",
              "      <td>88.20</td>\n",
              "      <td>5.0</td>\n",
              "      <td>Maruti</td>\n",
              "      <td>17</td>\n",
              "    </tr>\n",
              "  </tbody>\n",
              "</table>\n",
              "</div>"
            ],
            "text/plain": [
              "   selling_price  km_driven    fuel seller_type transmission         owner  \\\n",
              "0         450000     145500  Diesel  Individual       Manual   First Owner   \n",
              "1         370000     120000  Diesel  Individual       Manual  Second Owner   \n",
              "2         158000     140000  Petrol  Individual       Manual   Third Owner   \n",
              "3         225000     127000  Diesel  Individual       Manual   First Owner   \n",
              "4         130000     120000  Petrol  Individual       Manual   First Owner   \n",
              "\n",
              "   mileage  engine  max_power  seats car_brand_name  car_age  \n",
              "0    23.40  1248.0      74.00    5.0         Maruti       10  \n",
              "1    21.14  1498.0     103.52    5.0          Skoda       10  \n",
              "2    17.70  1497.0      78.00    5.0          Honda       18  \n",
              "3    23.00  1396.0      90.00    5.0        Hyundai       14  \n",
              "4    16.10  1298.0      88.20    5.0         Maruti       17  "
            ]
          },
          "execution_count": 20,
          "metadata": {},
          "output_type": "execute_result"
        }
      ],
      "source": [
        "df.head()"
      ]
    },
    {
      "cell_type": "code",
      "execution_count": 21,
      "metadata": {
        "colab": {
          "base_uri": "https://localhost:8080/"
        },
        "id": "fOG87pi0HO0E",
        "outputId": "00ee6b96-2a8d-4c0e-9501-6657f96a8b97"
      },
      "outputs": [
        {
          "name": "stdout",
          "output_type": "stream",
          "text": [
            "Skewness of target variable:  4.193533440675855\n",
            "Kurtosis of target variable:  21.081289012186755\n"
          ]
        }
      ],
      "source": [
        "print(\"Skewness of target variable: \", df[\"selling_price\"].skew())\n",
        "print(\"Kurtosis of target variable: \", df[\"selling_price\"].kurt())"
      ]
    },
    {
      "cell_type": "code",
      "execution_count": 22,
      "metadata": {
        "colab": {
          "base_uri": "https://localhost:8080/"
        },
        "id": "lovuVdzlHO0E",
        "outputId": "514838af-cf19-4bd8-a5f7-ea0afd9646ac"
      },
      "outputs": [
        {
          "data": {
            "text/plain": [
              "0    13.017005\n",
              "1    12.821261\n",
              "2    11.970357\n",
              "3    12.323860\n",
              "4    11.775297\n",
              "5    12.994532\n",
              "6    11.472114\n",
              "7    10.714440\n",
              "8    12.765691\n",
              "9    12.206078\n",
              "Name: selling_price, dtype: float64"
            ]
          },
          "execution_count": 22,
          "metadata": {},
          "output_type": "execute_result"
        }
      ],
      "source": [
        "df[\"selling_price\"] = np.log1p(df[\"selling_price\"])\n",
        "df[\"selling_price\"].head(n = 10)"
      ]
    },
    {
      "cell_type": "code",
      "execution_count": 23,
      "metadata": {
        "colab": {
          "base_uri": "https://localhost:8080/"
        },
        "id": "8r_RdDn9HO0E",
        "outputId": "067b9775-6069-46d8-e1f8-ba462865ad69"
      },
      "outputs": [
        {
          "name": "stdout",
          "output_type": "stream",
          "text": [
            "Skewness of selling_price variable is: 0.22327004522860716\n",
            "Skewness of km_driven variable is: 11.170909783549087\n",
            "Skewness of mileage variable is: -0.14220847114521287\n",
            "Skewness of engine variable is: 1.1753055440141613\n",
            "Skewness of max_power variable is: 1.6595575154307947\n",
            "Skewness of seats variable is: 2.015507247545297\n",
            "Skewness of car_age variable is: 1.072292893616034\n"
          ]
        }
      ],
      "source": [
        "# get skewness of other numeric variables\n",
        "\n",
        "numeric_data = [column for column in df.select_dtypes([\"int\", \"float\"])]\n",
        "for col in numeric_data:\n",
        "    print(\"Skewness of\", col, \"variable is:\", df[col].skew())\n"
      ]
    },
    {
      "cell_type": "code",
      "execution_count": 24,
      "metadata": {
        "colab": {
          "base_uri": "https://localhost:8080/",
          "height": 313
        },
        "id": "i4n-0mNxHO0F",
        "outputId": "9a720482-76f7-456a-902a-3a800842d940"
      },
      "outputs": [
        {
          "data": {
            "text/html": [
              "<div>\n",
              "<style scoped>\n",
              "    .dataframe tbody tr th:only-of-type {\n",
              "        vertical-align: middle;\n",
              "    }\n",
              "\n",
              "    .dataframe tbody tr th {\n",
              "        vertical-align: top;\n",
              "    }\n",
              "\n",
              "    .dataframe thead th {\n",
              "        text-align: right;\n",
              "    }\n",
              "</style>\n",
              "<table border=\"1\" class=\"dataframe\">\n",
              "  <thead>\n",
              "    <tr style=\"text-align: right;\">\n",
              "      <th></th>\n",
              "      <th>selling_price</th>\n",
              "      <th>km_driven</th>\n",
              "      <th>fuel</th>\n",
              "      <th>seller_type</th>\n",
              "      <th>transmission</th>\n",
              "      <th>owner</th>\n",
              "      <th>mileage</th>\n",
              "      <th>engine</th>\n",
              "      <th>max_power</th>\n",
              "      <th>seats</th>\n",
              "      <th>car_brand_name</th>\n",
              "      <th>car_age</th>\n",
              "    </tr>\n",
              "  </thead>\n",
              "  <tbody>\n",
              "    <tr>\n",
              "      <th>0</th>\n",
              "      <td>13.017005</td>\n",
              "      <td>145500</td>\n",
              "      <td>Diesel</td>\n",
              "      <td>Individual</td>\n",
              "      <td>Manual</td>\n",
              "      <td>First Owner</td>\n",
              "      <td>23.40</td>\n",
              "      <td>1248.0</td>\n",
              "      <td>74.00</td>\n",
              "      <td>5.0</td>\n",
              "      <td>Maruti</td>\n",
              "      <td>10</td>\n",
              "    </tr>\n",
              "    <tr>\n",
              "      <th>1</th>\n",
              "      <td>12.821261</td>\n",
              "      <td>120000</td>\n",
              "      <td>Diesel</td>\n",
              "      <td>Individual</td>\n",
              "      <td>Manual</td>\n",
              "      <td>Second Owner</td>\n",
              "      <td>21.14</td>\n",
              "      <td>1498.0</td>\n",
              "      <td>103.52</td>\n",
              "      <td>5.0</td>\n",
              "      <td>Skoda</td>\n",
              "      <td>10</td>\n",
              "    </tr>\n",
              "    <tr>\n",
              "      <th>2</th>\n",
              "      <td>11.970357</td>\n",
              "      <td>140000</td>\n",
              "      <td>Petrol</td>\n",
              "      <td>Individual</td>\n",
              "      <td>Manual</td>\n",
              "      <td>Third Owner</td>\n",
              "      <td>17.70</td>\n",
              "      <td>1497.0</td>\n",
              "      <td>78.00</td>\n",
              "      <td>5.0</td>\n",
              "      <td>Honda</td>\n",
              "      <td>18</td>\n",
              "    </tr>\n",
              "    <tr>\n",
              "      <th>3</th>\n",
              "      <td>12.323860</td>\n",
              "      <td>127000</td>\n",
              "      <td>Diesel</td>\n",
              "      <td>Individual</td>\n",
              "      <td>Manual</td>\n",
              "      <td>First Owner</td>\n",
              "      <td>23.00</td>\n",
              "      <td>1396.0</td>\n",
              "      <td>90.00</td>\n",
              "      <td>5.0</td>\n",
              "      <td>Hyundai</td>\n",
              "      <td>14</td>\n",
              "    </tr>\n",
              "    <tr>\n",
              "      <th>4</th>\n",
              "      <td>11.775297</td>\n",
              "      <td>120000</td>\n",
              "      <td>Petrol</td>\n",
              "      <td>Individual</td>\n",
              "      <td>Manual</td>\n",
              "      <td>First Owner</td>\n",
              "      <td>16.10</td>\n",
              "      <td>1298.0</td>\n",
              "      <td>88.20</td>\n",
              "      <td>5.0</td>\n",
              "      <td>Maruti</td>\n",
              "      <td>17</td>\n",
              "    </tr>\n",
              "  </tbody>\n",
              "</table>\n",
              "</div>"
            ],
            "text/plain": [
              "   selling_price  km_driven    fuel seller_type transmission         owner  \\\n",
              "0      13.017005     145500  Diesel  Individual       Manual   First Owner   \n",
              "1      12.821261     120000  Diesel  Individual       Manual  Second Owner   \n",
              "2      11.970357     140000  Petrol  Individual       Manual   Third Owner   \n",
              "3      12.323860     127000  Diesel  Individual       Manual   First Owner   \n",
              "4      11.775297     120000  Petrol  Individual       Manual   First Owner   \n",
              "\n",
              "   mileage  engine  max_power  seats car_brand_name  car_age  \n",
              "0    23.40  1248.0      74.00    5.0         Maruti       10  \n",
              "1    21.14  1498.0     103.52    5.0          Skoda       10  \n",
              "2    17.70  1497.0      78.00    5.0          Honda       18  \n",
              "3    23.00  1396.0      90.00    5.0        Hyundai       14  \n",
              "4    16.10  1298.0      88.20    5.0         Maruti       17  "
            ]
          },
          "execution_count": 24,
          "metadata": {},
          "output_type": "execute_result"
        }
      ],
      "source": [
        "df.head()"
      ]
    },
    {
      "cell_type": "code",
      "execution_count": 25,
      "metadata": {
        "id": "zusUyJ2bHO0F"
      },
      "outputs": [],
      "source": [
        "# fix skewness  of them with 'log1p' function\n",
        "\n",
        "for c in numeric_data:\n",
        "    df[c] = np.log1p(df[c])"
      ]
    },
    {
      "cell_type": "code",
      "execution_count": 26,
      "metadata": {
        "id": "97XflsNKHO0F"
      },
      "outputs": [],
      "source": [
        "# select dependent variable (label)\n",
        "x = df.drop(\"selling_price\", axis = 1)\n",
        "y = df[\"selling_price\"]"
      ]
    },
    {
      "cell_type": "code",
      "execution_count": 27,
      "metadata": {
        "id": "hyw7isI-HO0F"
      },
      "outputs": [],
      "source": [
        "x = df.drop(\"selling_price\", axis = 1)"
      ]
    },
    {
      "cell_type": "code",
      "execution_count": 28,
      "metadata": {
        "colab": {
          "base_uri": "https://localhost:8080/",
          "height": 652
        },
        "id": "lk4OyKecHO0G",
        "outputId": "a8a1151a-ece8-4fd3-e53d-1df3bcdab281"
      },
      "outputs": [
        {
          "data": {
            "text/html": [
              "<div>\n",
              "<style scoped>\n",
              "    .dataframe tbody tr th:only-of-type {\n",
              "        vertical-align: middle;\n",
              "    }\n",
              "\n",
              "    .dataframe tbody tr th {\n",
              "        vertical-align: top;\n",
              "    }\n",
              "\n",
              "    .dataframe thead th {\n",
              "        text-align: right;\n",
              "    }\n",
              "</style>\n",
              "<table border=\"1\" class=\"dataframe\">\n",
              "  <thead>\n",
              "    <tr style=\"text-align: right;\">\n",
              "      <th></th>\n",
              "      <th>km_driven</th>\n",
              "      <th>fuel</th>\n",
              "      <th>seller_type</th>\n",
              "      <th>transmission</th>\n",
              "      <th>owner</th>\n",
              "      <th>mileage</th>\n",
              "      <th>engine</th>\n",
              "      <th>max_power</th>\n",
              "      <th>seats</th>\n",
              "      <th>car_brand_name</th>\n",
              "      <th>car_age</th>\n",
              "    </tr>\n",
              "  </thead>\n",
              "  <tbody>\n",
              "    <tr>\n",
              "      <th>0</th>\n",
              "      <td>11.887938</td>\n",
              "      <td>Diesel</td>\n",
              "      <td>Individual</td>\n",
              "      <td>Manual</td>\n",
              "      <td>First Owner</td>\n",
              "      <td>3.194583</td>\n",
              "      <td>7.130099</td>\n",
              "      <td>4.317488</td>\n",
              "      <td>1.791759</td>\n",
              "      <td>Maruti</td>\n",
              "      <td>2.397895</td>\n",
              "    </tr>\n",
              "    <tr>\n",
              "      <th>1</th>\n",
              "      <td>11.695255</td>\n",
              "      <td>Diesel</td>\n",
              "      <td>Individual</td>\n",
              "      <td>Manual</td>\n",
              "      <td>Second Owner</td>\n",
              "      <td>3.097386</td>\n",
              "      <td>7.312553</td>\n",
              "      <td>4.649378</td>\n",
              "      <td>1.791759</td>\n",
              "      <td>Skoda</td>\n",
              "      <td>2.397895</td>\n",
              "    </tr>\n",
              "    <tr>\n",
              "      <th>2</th>\n",
              "      <td>11.849405</td>\n",
              "      <td>Petrol</td>\n",
              "      <td>Individual</td>\n",
              "      <td>Manual</td>\n",
              "      <td>Third Owner</td>\n",
              "      <td>2.928524</td>\n",
              "      <td>7.311886</td>\n",
              "      <td>4.369448</td>\n",
              "      <td>1.791759</td>\n",
              "      <td>Honda</td>\n",
              "      <td>2.944439</td>\n",
              "    </tr>\n",
              "    <tr>\n",
              "      <th>3</th>\n",
              "      <td>11.751950</td>\n",
              "      <td>Diesel</td>\n",
              "      <td>Individual</td>\n",
              "      <td>Manual</td>\n",
              "      <td>First Owner</td>\n",
              "      <td>3.178054</td>\n",
              "      <td>7.242082</td>\n",
              "      <td>4.510860</td>\n",
              "      <td>1.791759</td>\n",
              "      <td>Hyundai</td>\n",
              "      <td>2.708050</td>\n",
              "    </tr>\n",
              "    <tr>\n",
              "      <th>4</th>\n",
              "      <td>11.695255</td>\n",
              "      <td>Petrol</td>\n",
              "      <td>Individual</td>\n",
              "      <td>Manual</td>\n",
              "      <td>First Owner</td>\n",
              "      <td>2.839078</td>\n",
              "      <td>7.169350</td>\n",
              "      <td>4.490881</td>\n",
              "      <td>1.791759</td>\n",
              "      <td>Maruti</td>\n",
              "      <td>2.890372</td>\n",
              "    </tr>\n",
              "    <tr>\n",
              "      <th>...</th>\n",
              "      <td>...</td>\n",
              "      <td>...</td>\n",
              "      <td>...</td>\n",
              "      <td>...</td>\n",
              "      <td>...</td>\n",
              "      <td>...</td>\n",
              "      <td>...</td>\n",
              "      <td>...</td>\n",
              "      <td>...</td>\n",
              "      <td>...</td>\n",
              "      <td>...</td>\n",
              "    </tr>\n",
              "    <tr>\n",
              "      <th>8123</th>\n",
              "      <td>11.608245</td>\n",
              "      <td>Petrol</td>\n",
              "      <td>Individual</td>\n",
              "      <td>Manual</td>\n",
              "      <td>First Owner</td>\n",
              "      <td>2.970414</td>\n",
              "      <td>7.088409</td>\n",
              "      <td>4.429029</td>\n",
              "      <td>1.791759</td>\n",
              "      <td>Hyundai</td>\n",
              "      <td>2.484907</td>\n",
              "    </tr>\n",
              "    <tr>\n",
              "      <th>8124</th>\n",
              "      <td>11.686887</td>\n",
              "      <td>Diesel</td>\n",
              "      <td>Individual</td>\n",
              "      <td>Manual</td>\n",
              "      <td>Fourth &amp; Above Owner</td>\n",
              "      <td>2.879198</td>\n",
              "      <td>7.309212</td>\n",
              "      <td>4.709530</td>\n",
              "      <td>1.791759</td>\n",
              "      <td>Hyundai</td>\n",
              "      <td>2.890372</td>\n",
              "    </tr>\n",
              "    <tr>\n",
              "      <th>8125</th>\n",
              "      <td>11.695255</td>\n",
              "      <td>Diesel</td>\n",
              "      <td>Individual</td>\n",
              "      <td>Manual</td>\n",
              "      <td>First Owner</td>\n",
              "      <td>3.010621</td>\n",
              "      <td>7.130099</td>\n",
              "      <td>4.316154</td>\n",
              "      <td>1.791759</td>\n",
              "      <td>Maruti</td>\n",
              "      <td>2.772589</td>\n",
              "    </tr>\n",
              "    <tr>\n",
              "      <th>8126</th>\n",
              "      <td>10.126671</td>\n",
              "      <td>Diesel</td>\n",
              "      <td>Individual</td>\n",
              "      <td>Manual</td>\n",
              "      <td>First Owner</td>\n",
              "      <td>3.201526</td>\n",
              "      <td>7.242082</td>\n",
              "      <td>4.262680</td>\n",
              "      <td>1.791759</td>\n",
              "      <td>Tata</td>\n",
              "      <td>2.484907</td>\n",
              "    </tr>\n",
              "    <tr>\n",
              "      <th>8127</th>\n",
              "      <td>10.126671</td>\n",
              "      <td>Diesel</td>\n",
              "      <td>Individual</td>\n",
              "      <td>Manual</td>\n",
              "      <td>First Owner</td>\n",
              "      <td>3.201526</td>\n",
              "      <td>7.242082</td>\n",
              "      <td>4.262680</td>\n",
              "      <td>1.791759</td>\n",
              "      <td>Tata</td>\n",
              "      <td>2.484907</td>\n",
              "    </tr>\n",
              "  </tbody>\n",
              "</table>\n",
              "<p>8128 rows × 11 columns</p>\n",
              "</div>"
            ],
            "text/plain": [
              "      km_driven    fuel seller_type transmission                 owner  \\\n",
              "0     11.887938  Diesel  Individual       Manual           First Owner   \n",
              "1     11.695255  Diesel  Individual       Manual          Second Owner   \n",
              "2     11.849405  Petrol  Individual       Manual           Third Owner   \n",
              "3     11.751950  Diesel  Individual       Manual           First Owner   \n",
              "4     11.695255  Petrol  Individual       Manual           First Owner   \n",
              "...         ...     ...         ...          ...                   ...   \n",
              "8123  11.608245  Petrol  Individual       Manual           First Owner   \n",
              "8124  11.686887  Diesel  Individual       Manual  Fourth & Above Owner   \n",
              "8125  11.695255  Diesel  Individual       Manual           First Owner   \n",
              "8126  10.126671  Diesel  Individual       Manual           First Owner   \n",
              "8127  10.126671  Diesel  Individual       Manual           First Owner   \n",
              "\n",
              "       mileage    engine  max_power     seats car_brand_name   car_age  \n",
              "0     3.194583  7.130099   4.317488  1.791759         Maruti  2.397895  \n",
              "1     3.097386  7.312553   4.649378  1.791759          Skoda  2.397895  \n",
              "2     2.928524  7.311886   4.369448  1.791759          Honda  2.944439  \n",
              "3     3.178054  7.242082   4.510860  1.791759        Hyundai  2.708050  \n",
              "4     2.839078  7.169350   4.490881  1.791759         Maruti  2.890372  \n",
              "...        ...       ...        ...       ...            ...       ...  \n",
              "8123  2.970414  7.088409   4.429029  1.791759        Hyundai  2.484907  \n",
              "8124  2.879198  7.309212   4.709530  1.791759        Hyundai  2.890372  \n",
              "8125  3.010621  7.130099   4.316154  1.791759         Maruti  2.772589  \n",
              "8126  3.201526  7.242082   4.262680  1.791759           Tata  2.484907  \n",
              "8127  3.201526  7.242082   4.262680  1.791759           Tata  2.484907  \n",
              "\n",
              "[8128 rows x 11 columns]"
            ]
          },
          "execution_count": 28,
          "metadata": {},
          "output_type": "execute_result"
        }
      ],
      "source": [
        "x"
      ]
    },
    {
      "cell_type": "code",
      "execution_count": 29,
      "metadata": {
        "id": "Al10qgVvHO0G"
      },
      "outputs": [],
      "source": [
        "from sklearn.preprocessing import LabelEncoder\n",
        "\n",
        "# Define columns with categorical variables\n",
        "categorical_cols = ['fuel', 'seller_type', 'transmission', 'owner', 'car_brand_name']\n",
        "\n",
        "# Apply LabelEncoder to each categorical column\n",
        "label_encoders = {}\n",
        "for col in categorical_cols:\n",
        "    label_encoders[col] = LabelEncoder()\n",
        "    x[col] = label_encoders[col].fit_transform(x[col])"
      ]
    },
    {
      "cell_type": "code",
      "execution_count": 30,
      "metadata": {
        "id": "o2ZZN2exHO0G"
      },
      "outputs": [],
      "source": [
        "df_label=x"
      ]
    },
    {
      "cell_type": "code",
      "execution_count": 31,
      "metadata": {
        "colab": {
          "base_uri": "https://localhost:8080/",
          "height": 444
        },
        "id": "FePFzU9IHO0G",
        "outputId": "b509189f-ce53-4df4-fdf2-cb1da71fd3db"
      },
      "outputs": [
        {
          "data": {
            "text/html": [
              "<div>\n",
              "<style scoped>\n",
              "    .dataframe tbody tr th:only-of-type {\n",
              "        vertical-align: middle;\n",
              "    }\n",
              "\n",
              "    .dataframe tbody tr th {\n",
              "        vertical-align: top;\n",
              "    }\n",
              "\n",
              "    .dataframe thead th {\n",
              "        text-align: right;\n",
              "    }\n",
              "</style>\n",
              "<table border=\"1\" class=\"dataframe\">\n",
              "  <thead>\n",
              "    <tr style=\"text-align: right;\">\n",
              "      <th></th>\n",
              "      <th>km_driven</th>\n",
              "      <th>fuel</th>\n",
              "      <th>seller_type</th>\n",
              "      <th>transmission</th>\n",
              "      <th>owner</th>\n",
              "      <th>mileage</th>\n",
              "      <th>engine</th>\n",
              "      <th>max_power</th>\n",
              "      <th>seats</th>\n",
              "      <th>car_brand_name</th>\n",
              "      <th>car_age</th>\n",
              "    </tr>\n",
              "  </thead>\n",
              "  <tbody>\n",
              "    <tr>\n",
              "      <th>0</th>\n",
              "      <td>11.887938</td>\n",
              "      <td>1</td>\n",
              "      <td>1</td>\n",
              "      <td>1</td>\n",
              "      <td>0</td>\n",
              "      <td>3.194583</td>\n",
              "      <td>7.130099</td>\n",
              "      <td>4.317488</td>\n",
              "      <td>1.791759</td>\n",
              "      <td>20</td>\n",
              "      <td>2.397895</td>\n",
              "    </tr>\n",
              "    <tr>\n",
              "      <th>1</th>\n",
              "      <td>11.695255</td>\n",
              "      <td>1</td>\n",
              "      <td>1</td>\n",
              "      <td>1</td>\n",
              "      <td>2</td>\n",
              "      <td>3.097386</td>\n",
              "      <td>7.312553</td>\n",
              "      <td>4.649378</td>\n",
              "      <td>1.791759</td>\n",
              "      <td>27</td>\n",
              "      <td>2.397895</td>\n",
              "    </tr>\n",
              "    <tr>\n",
              "      <th>2</th>\n",
              "      <td>11.849405</td>\n",
              "      <td>3</td>\n",
              "      <td>1</td>\n",
              "      <td>1</td>\n",
              "      <td>4</td>\n",
              "      <td>2.928524</td>\n",
              "      <td>7.311886</td>\n",
              "      <td>4.369448</td>\n",
              "      <td>1.791759</td>\n",
              "      <td>10</td>\n",
              "      <td>2.944439</td>\n",
              "    </tr>\n",
              "    <tr>\n",
              "      <th>3</th>\n",
              "      <td>11.751950</td>\n",
              "      <td>1</td>\n",
              "      <td>1</td>\n",
              "      <td>1</td>\n",
              "      <td>0</td>\n",
              "      <td>3.178054</td>\n",
              "      <td>7.242082</td>\n",
              "      <td>4.510860</td>\n",
              "      <td>1.791759</td>\n",
              "      <td>11</td>\n",
              "      <td>2.708050</td>\n",
              "    </tr>\n",
              "    <tr>\n",
              "      <th>4</th>\n",
              "      <td>11.695255</td>\n",
              "      <td>3</td>\n",
              "      <td>1</td>\n",
              "      <td>1</td>\n",
              "      <td>0</td>\n",
              "      <td>2.839078</td>\n",
              "      <td>7.169350</td>\n",
              "      <td>4.490881</td>\n",
              "      <td>1.791759</td>\n",
              "      <td>20</td>\n",
              "      <td>2.890372</td>\n",
              "    </tr>\n",
              "    <tr>\n",
              "      <th>...</th>\n",
              "      <td>...</td>\n",
              "      <td>...</td>\n",
              "      <td>...</td>\n",
              "      <td>...</td>\n",
              "      <td>...</td>\n",
              "      <td>...</td>\n",
              "      <td>...</td>\n",
              "      <td>...</td>\n",
              "      <td>...</td>\n",
              "      <td>...</td>\n",
              "      <td>...</td>\n",
              "    </tr>\n",
              "    <tr>\n",
              "      <th>8123</th>\n",
              "      <td>11.608245</td>\n",
              "      <td>3</td>\n",
              "      <td>1</td>\n",
              "      <td>1</td>\n",
              "      <td>0</td>\n",
              "      <td>2.970414</td>\n",
              "      <td>7.088409</td>\n",
              "      <td>4.429029</td>\n",
              "      <td>1.791759</td>\n",
              "      <td>11</td>\n",
              "      <td>2.484907</td>\n",
              "    </tr>\n",
              "    <tr>\n",
              "      <th>8124</th>\n",
              "      <td>11.686887</td>\n",
              "      <td>1</td>\n",
              "      <td>1</td>\n",
              "      <td>1</td>\n",
              "      <td>1</td>\n",
              "      <td>2.879198</td>\n",
              "      <td>7.309212</td>\n",
              "      <td>4.709530</td>\n",
              "      <td>1.791759</td>\n",
              "      <td>11</td>\n",
              "      <td>2.890372</td>\n",
              "    </tr>\n",
              "    <tr>\n",
              "      <th>8125</th>\n",
              "      <td>11.695255</td>\n",
              "      <td>1</td>\n",
              "      <td>1</td>\n",
              "      <td>1</td>\n",
              "      <td>0</td>\n",
              "      <td>3.010621</td>\n",
              "      <td>7.130099</td>\n",
              "      <td>4.316154</td>\n",
              "      <td>1.791759</td>\n",
              "      <td>20</td>\n",
              "      <td>2.772589</td>\n",
              "    </tr>\n",
              "    <tr>\n",
              "      <th>8126</th>\n",
              "      <td>10.126671</td>\n",
              "      <td>1</td>\n",
              "      <td>1</td>\n",
              "      <td>1</td>\n",
              "      <td>0</td>\n",
              "      <td>3.201526</td>\n",
              "      <td>7.242082</td>\n",
              "      <td>4.262680</td>\n",
              "      <td>1.791759</td>\n",
              "      <td>28</td>\n",
              "      <td>2.484907</td>\n",
              "    </tr>\n",
              "    <tr>\n",
              "      <th>8127</th>\n",
              "      <td>10.126671</td>\n",
              "      <td>1</td>\n",
              "      <td>1</td>\n",
              "      <td>1</td>\n",
              "      <td>0</td>\n",
              "      <td>3.201526</td>\n",
              "      <td>7.242082</td>\n",
              "      <td>4.262680</td>\n",
              "      <td>1.791759</td>\n",
              "      <td>28</td>\n",
              "      <td>2.484907</td>\n",
              "    </tr>\n",
              "  </tbody>\n",
              "</table>\n",
              "<p>8128 rows × 11 columns</p>\n",
              "</div>"
            ],
            "text/plain": [
              "      km_driven  fuel  seller_type  transmission  owner   mileage    engine  \\\n",
              "0     11.887938     1            1             1      0  3.194583  7.130099   \n",
              "1     11.695255     1            1             1      2  3.097386  7.312553   \n",
              "2     11.849405     3            1             1      4  2.928524  7.311886   \n",
              "3     11.751950     1            1             1      0  3.178054  7.242082   \n",
              "4     11.695255     3            1             1      0  2.839078  7.169350   \n",
              "...         ...   ...          ...           ...    ...       ...       ...   \n",
              "8123  11.608245     3            1             1      0  2.970414  7.088409   \n",
              "8124  11.686887     1            1             1      1  2.879198  7.309212   \n",
              "8125  11.695255     1            1             1      0  3.010621  7.130099   \n",
              "8126  10.126671     1            1             1      0  3.201526  7.242082   \n",
              "8127  10.126671     1            1             1      0  3.201526  7.242082   \n",
              "\n",
              "      max_power     seats  car_brand_name   car_age  \n",
              "0      4.317488  1.791759              20  2.397895  \n",
              "1      4.649378  1.791759              27  2.397895  \n",
              "2      4.369448  1.791759              10  2.944439  \n",
              "3      4.510860  1.791759              11  2.708050  \n",
              "4      4.490881  1.791759              20  2.890372  \n",
              "...         ...       ...             ...       ...  \n",
              "8123   4.429029  1.791759              11  2.484907  \n",
              "8124   4.709530  1.791759              11  2.890372  \n",
              "8125   4.316154  1.791759              20  2.772589  \n",
              "8126   4.262680  1.791759              28  2.484907  \n",
              "8127   4.262680  1.791759              28  2.484907  \n",
              "\n",
              "[8128 rows x 11 columns]"
            ]
          },
          "execution_count": 31,
          "metadata": {},
          "output_type": "execute_result"
        }
      ],
      "source": [
        "x"
      ]
    },
    {
      "cell_type": "code",
      "execution_count": 32,
      "metadata": {
        "colab": {
          "base_uri": "https://localhost:8080/"
        },
        "id": "WthLdke_HO0H",
        "outputId": "00a5a0ab-f3c3-4b8d-9e17-f9df61b7847d"
      },
      "outputs": [
        {
          "data": {
            "text/plain": [
              "((8128,), (8128, 11))"
            ]
          },
          "execution_count": 32,
          "metadata": {},
          "output_type": "execute_result"
        }
      ],
      "source": [
        "y.shape, x.shape"
      ]
    },
    {
      "cell_type": "code",
      "execution_count": 33,
      "metadata": {
        "colab": {
          "base_uri": "https://localhost:8080/"
        },
        "id": "W5jBxKuuHO0H",
        "outputId": "3455a830-cd79-48e2-8ae6-d136e9c59f12"
      },
      "outputs": [
        {
          "name": "stdout",
          "output_type": "stream",
          "text": [
            "(6502, 11)\n",
            "(1626, 11)\n"
          ]
        }
      ],
      "source": [
        "# Split the dataset into x_train (y_train) and x_test (y_test) sets\n",
        "\n",
        "x_train, x_test, y_train, y_test = train_test_split(x, y,\n",
        "                                                    test_size = 0.20,\n",
        "                                                    shuffle = True,\n",
        "                                                    random_state = 1)\n",
        "print(x_train.shape)\n",
        "print(x_test.shape)\n"
      ]
    },
    {
      "cell_type": "code",
      "execution_count": 34,
      "metadata": {
        "id": "TeYh-UDdHO0I"
      },
      "outputs": [],
      "source": [
        "from sklearn.model_selection import KFold\n",
        "from sklearn.svm import SVR\n",
        "from sklearn.metrics import mean_squared_error, mean_absolute_error, median_absolute_error\n",
        "import numpy as np"
      ]
    },
    {
      "cell_type": "markdown",
      "metadata": {
        "id": "UNoXzkHLHO0I"
      },
      "source": []
    },
    {
      "cell_type": "markdown",
      "metadata": {
        "id": "RAOxcADMHO0K"
      },
      "source": [
        "## SVR"
      ]
    },
    {
      "cell_type": "code",
      "execution_count": 35,
      "metadata": {
        "id": "j3t9uQnIHO0L"
      },
      "outputs": [],
      "source": [
        "# Define number of folds for cross-validation\n",
        "n_folds = 4\n",
        "kf = KFold(n_splits=n_folds, shuffle=True, random_state=1)"
      ]
    },
    {
      "cell_type": "code",
      "execution_count": 36,
      "metadata": {
        "id": "0kxiPeA5HO0L"
      },
      "outputs": [],
      "source": [
        "\n",
        "# Initialize SVR models for each fold\n",
        "svr_models = []\n",
        "\n",
        "# Initialize lists to store evaluation metrics for each fold\n",
        "mse_scores = []\n",
        "rmse_scores = []\n",
        "mae_scores = []\n",
        "medae_scores = []\n"
      ]
    },
    {
      "cell_type": "code",
      "execution_count": 37,
      "metadata": {
        "id": "p1z8UiDFHO0L"
      },
      "outputs": [],
      "source": [
        "# Perform k-fold cross-validation\n",
        "for train_index, test_index in kf.split(x_train):\n",
        "    x_train_fold, x_val_fold = x_train.iloc[train_index], x_train.iloc[test_index]\n",
        "    y_train_fold, y_val_fold = y_train.iloc[train_index], y_train.iloc[test_index]\n",
        "\n",
        "    # Initialize SVR model for this fold with more complex hyperparameters\n",
        "    svr = SVR()\n",
        "\n",
        "    # Fit SVR model to the training fold\n",
        "    svr.fit(x_train_fold, y_train_fold)\n",
        "\n",
        "    # Store trained model for this fold\n",
        "    svr_models.append(svr)\n",
        "\n",
        "    # Predict on the validation fold\n",
        "    y_pred_fold = svr.predict(x_val_fold)\n",
        "\n",
        "        # Calculate evaluation metrics for the fold\n",
        "    mse_fold = mean_squared_error(y_val_fold, y_pred_fold)\n",
        "    rmse_fold = np.sqrt(mse_fold)\n",
        "    mae_fold = mean_absolute_error(y_val_fold, y_pred_fold)\n",
        "    # medae_fold = median_absolute_error(y_val_fold, y_pred_fold)\n",
        "\n",
        "        # Store evaluation metrics for this fold\n",
        "    mse_scores.append(mse_fold)\n",
        "    rmse_scores.append(rmse_fold)\n",
        "    mae_scores.append(mae_fold)\n",
        "    # medae_scores.append(medae_fold)"
      ]
    },
    {
      "cell_type": "code",
      "execution_count": 38,
      "metadata": {},
      "outputs": [
        {
          "data": {
            "image/png": "[encoded data removed]",
            "text/plain": [
              "<Figure size 1000x600 with 1 Axes>"
            ]
          },
          "metadata": {},
          "output_type": "display_data"
        }
      ],
      "source": [
        "import matplotlib.pyplot as plt\n",
        "import numpy as np\n",
        "\n",
        "# Number of folds\n",
        "num_folds = len(mse_scores)\n",
        "\n",
        "# Generate y-axis values (fold numbers)\n",
        "fold_numbers = np.arange(1, num_folds + 1)\n",
        "\n",
        "# Height of each bar\n",
        "bar_height = 0.3\n",
        "\n",
        "# Plotting each metric separately\n",
        "plt.figure(figsize=(10, 6))\n",
        "\n",
        "# Plot MSE scores\n",
        "plt.barh(fold_numbers - bar_height, mse_scores, color='b', height=bar_height, alpha=0.7, label='MSE')\n",
        "\n",
        "# Plot RMSE scores\n",
        "plt.barh(fold_numbers, rmse_scores, color='g', height=bar_height, alpha=0.7, label='RMSE')\n",
        "\n",
        "# Plot MAE scores\n",
        "plt.barh(fold_numbers + bar_height, mae_scores, color='r', height=bar_height, alpha=0.7, label='MAE')\n",
        "\n",
        "# Set labels and title\n",
        "plt.title('Performance Metrics Across Folds')\n",
        "plt.ylabel('Fold Number')\n",
        "plt.xlabel('Score')\n",
        "\n",
        "# Set y-axis ticks and labels\n",
        "plt.yticks(fold_numbers, fold_numbers)\n",
        "\n",
        "# Add legend\n",
        "plt.legend()\n",
        "\n",
        "# Show plot\n",
        "plt.grid(axis='x', linestyle='--', alpha=0.7)\n",
        "plt.tight_layout()\n",
        "plt.show()\n"
      ]
    },
    {
      "cell_type": "code",
      "execution_count": 39,
      "metadata": {
        "colab": {
          "base_uri": "https://localhost:8080/"
        },
        "id": "scn9GyErHO0T",
        "outputId": "94176a39-1367-4e7e-a544-c8797ef13317"
      },
      "outputs": [
        {
          "name": "stdout",
          "output_type": "stream",
          "text": [
            "Fold 1 - Mean Squared Error (MSE): 0.0018577961116517103, Root Mean Squared Error (RMSE): 0.04310215901380939, Mean Absolute Error (MAE): 0.03661802857840039, \n",
            "Fold 2 - Mean Squared Error (MSE): 0.0017627258465688336, Root Mean Squared Error (RMSE): 0.04198482876669659, Mean Absolute Error (MAE): 0.03527224192411808, \n",
            "Fold 3 - Mean Squared Error (MSE): 0.0020545749797806936, Root Mean Squared Error (RMSE): 0.04532741973442448, Mean Absolute Error (MAE): 0.03878569783487892, \n",
            "Fold 4 - Mean Squared Error (MSE): 0.0018143215737110895, Root Mean Squared Error (RMSE): 0.0425948538407058, Mean Absolute Error (MAE): 0.03544544895911784, \n"
          ]
        }
      ],
      "source": [
        "# Print evaluation metrics for each fold\n",
        "for i in range(n_folds):\n",
        "    print(f\"Fold {i+1} - Mean Squared Error (MSE): {mse_scores[i]}, \"\n",
        "          f\"Root Mean Squared Error (RMSE): {rmse_scores[i]}, \"\n",
        "          f\"Mean Absolute Error (MAE): {mae_scores[i]}, \"\n",
        "          )\n"
      ]
    },
    {
      "cell_type": "code",
      "execution_count": 40,
      "metadata": {
        "colab": {
          "base_uri": "https://localhost:8080/"
        },
        "id": "-FkCgxr5HO0U",
        "outputId": "b86f1794-5da6-4dc4-cf3d-afaec7eb6058"
      },
      "outputs": [
        {
          "name": "stdout",
          "output_type": "stream",
          "text": [
            "Mean Squared Error (MSE): 0.0018723546279280818\n",
            "Root Mean Squared Error (RMSE): 0.04325231533890907\n",
            "Mean Absolute Error (MAE): 0.03653035432412881\n"
          ]
        }
      ],
      "source": [
        "# Calculate mean evaluation metrics for each fold\n",
        "avg_mse = np.mean(mse_scores)\n",
        "avg_rmse = np.mean(rmse_scores)\n",
        "avg_mae = np.mean(mae_scores)\n",
        "\n",
        "\n",
        "# Print mean evaluation metrics\n",
        "print(f\"Mean Squared Error (MSE): {avg_mse}\")\n",
        "print(f\"Root Mean Squared Error (RMSE): {avg_rmse}\")\n",
        "print(f\"Mean Absolute Error (MAE): {avg_mae}\")\n",
        "\n"
      ]
    },
    {
      "cell_type": "code",
      "execution_count": 41,
      "metadata": {
        "colab": {
          "base_uri": "https://localhost:8080/"
        },
        "id": "UXH5VOjXHO0U",
        "outputId": "2aaf9fb5-693b-4448-c84a-477ff5309a82"
      },
      "outputs": [
        {
          "name": "stdout",
          "output_type": "stream",
          "text": [
            "Test MSE: 0.0017212984574328117\n",
            "Test RMSE: 0.04148853404776809\n",
            "Test MAE: 0.035281177043170936\n"
          ]
        }
      ],
      "source": [
        "from sklearn.metrics import mean_squared_error, mean_absolute_error, median_absolute_error\n",
        "\n",
        "# Fit the SVR model on the entire training data\n",
        "svr.fit(x_train, y_train)\n",
        "\n",
        "# Predict on the test data\n",
        "y_test_pred = svr.predict(x_test)\n",
        "\n",
        "# Calculate evaluation metrics for the test data\n",
        "mse_test = mean_squared_error(y_test, y_test_pred)\n",
        "rmse_test = np.sqrt(mse_test)\n",
        "mae_test = mean_absolute_error(y_test, y_test_pred)\n",
        "\n",
        "\n",
        "print(\"Test MSE:\", mse_test)\n",
        "print(\"Test RMSE:\", rmse_test)\n",
        "print(\"Test MAE:\", mae_test)\n",
        "\n"
      ]
    },
    {
      "cell_type": "code",
      "execution_count": 42,
      "metadata": {
        "colab": {
          "base_uri": "https://localhost:8080/"
        },
        "id": "mRspRT0LHO0V",
        "outputId": "14a329bf-5707-4d16-8f53-3e51770a4d10"
      },
      "outputs": [
        {
          "name": "stdout",
          "output_type": "stream",
          "text": [
            "      selling_price  km_driven   mileage    engine  max_power     seats  \\\n",
            "0          2.640271  11.887938  3.194583  7.130099   4.317488  1.791759   \n",
            "1          2.626208  11.695255  3.097386  7.312553   4.649378  1.791759   \n",
            "2          2.562666  11.849405  2.928524  7.311886   4.369448  1.791759   \n",
            "3          2.589556  11.751950  3.178054  7.242082   4.510860  1.791759   \n",
            "4          2.547513  11.695255  2.839078  7.169350   4.490881  1.791759   \n",
            "...             ...        ...       ...       ...        ...       ...   \n",
            "8123       2.615648  11.608245  2.970414  7.088409   4.429029  1.791759   \n",
            "8124       2.550463  11.686887  2.879198  7.309212   4.709530  1.791759   \n",
            "8125       2.628515  11.695255  3.010621  7.130099   4.316154  1.791759   \n",
            "8126       2.608424  10.126671  3.201526  7.242082   4.262680  1.791759   \n",
            "8127       2.608424  10.126671  3.201526  7.242082   4.262680  1.791759   \n",
            "\n",
            "       car_age  ...  car_brand_name_Peugeot  car_brand_name_Renault  \\\n",
            "0     2.397895  ...                       0                       0   \n",
            "1     2.397895  ...                       0                       0   \n",
            "2     2.944439  ...                       0                       0   \n",
            "3     2.708050  ...                       0                       0   \n",
            "4     2.890372  ...                       0                       0   \n",
            "...        ...  ...                     ...                     ...   \n",
            "8123  2.484907  ...                       0                       0   \n",
            "8124  2.890372  ...                       0                       0   \n",
            "8125  2.772589  ...                       0                       0   \n",
            "8126  2.484907  ...                       0                       0   \n",
            "8127  2.484907  ...                       0                       0   \n",
            "\n",
            "      car_brand_name_Skoda  car_brand_name_Tata  car_brand_name_Toyota  \\\n",
            "0                        0                    0                      0   \n",
            "1                        1                    0                      0   \n",
            "2                        0                    0                      0   \n",
            "3                        0                    0                      0   \n",
            "4                        0                    0                      0   \n",
            "...                    ...                  ...                    ...   \n",
            "8123                     0                    0                      0   \n",
            "8124                     0                    0                      0   \n",
            "8125                     0                    0                      0   \n",
            "8126                     0                    1                      0   \n",
            "8127                     0                    1                      0   \n",
            "\n",
            "      car_brand_name_Volkswagen  car_brand_name_Volvo  \n",
            "0                             0                     0  \n",
            "1                             0                     0  \n",
            "2                             0                     0  \n",
            "3                             0                     0  \n",
            "4                             0                     0  \n",
            "...                         ...                   ...  \n",
            "8123                          0                     0  \n",
            "8124                          0                     0  \n",
            "8125                          0                     0  \n",
            "8126                          0                     0  \n",
            "8127                          0                     0  \n",
            "\n",
            "[8128 rows x 53 columns]\n"
          ]
        }
      ],
      "source": [
        "# Perform one-hot encoding\n",
        "df_encoded = pd.get_dummies(df, columns=['fuel', 'seller_type', 'transmission', 'owner', 'car_brand_name'])\n",
        "\n",
        "print(df_encoded)"
      ]
    },
    {
      "cell_type": "code",
      "execution_count": 43,
      "metadata": {
        "colab": {
          "base_uri": "https://localhost:8080/",
          "height": 256
        },
        "id": "G2HCr6x5HO0V",
        "outputId": "f7bde385-be18-4812-8ac7-fef65b8c0c06"
      },
      "outputs": [
        {
          "data": {
            "text/html": [
              "<div>\n",
              "<style scoped>\n",
              "    .dataframe tbody tr th:only-of-type {\n",
              "        vertical-align: middle;\n",
              "    }\n",
              "\n",
              "    .dataframe tbody tr th {\n",
              "        vertical-align: top;\n",
              "    }\n",
              "\n",
              "    .dataframe thead th {\n",
              "        text-align: right;\n",
              "    }\n",
              "</style>\n",
              "<table border=\"1\" class=\"dataframe\">\n",
              "  <thead>\n",
              "    <tr style=\"text-align: right;\">\n",
              "      <th></th>\n",
              "      <th>selling_price</th>\n",
              "      <th>km_driven</th>\n",
              "      <th>mileage</th>\n",
              "      <th>engine</th>\n",
              "      <th>max_power</th>\n",
              "      <th>seats</th>\n",
              "      <th>car_age</th>\n",
              "      <th>...</th>\n",
              "      <th>car_brand_name_Peugeot</th>\n",
              "      <th>car_brand_name_Renault</th>\n",
              "      <th>car_brand_name_Skoda</th>\n",
              "      <th>car_brand_name_Tata</th>\n",
              "      <th>car_brand_name_Toyota</th>\n",
              "      <th>car_brand_name_Volkswagen</th>\n",
              "      <th>car_brand_name_Volvo</th>\n",
              "    </tr>\n",
              "  </thead>\n",
              "  <tbody>\n",
              "    <tr>\n",
              "      <th>0</th>\n",
              "      <td>2.640271</td>\n",
              "      <td>11.887938</td>\n",
              "      <td>3.194583</td>\n",
              "      <td>7.130099</td>\n",
              "      <td>4.317488</td>\n",
              "      <td>1.791759</td>\n",
              "      <td>2.397895</td>\n",
              "      <td>...</td>\n",
              "      <td>0</td>\n",
              "      <td>0</td>\n",
              "      <td>0</td>\n",
              "      <td>0</td>\n",
              "      <td>0</td>\n",
              "      <td>0</td>\n",
              "      <td>0</td>\n",
              "    </tr>\n",
              "    <tr>\n",
              "      <th>1</th>\n",
              "      <td>2.626208</td>\n",
              "      <td>11.695255</td>\n",
              "      <td>3.097386</td>\n",
              "      <td>7.312553</td>\n",
              "      <td>4.649378</td>\n",
              "      <td>1.791759</td>\n",
              "      <td>2.397895</td>\n",
              "      <td>...</td>\n",
              "      <td>0</td>\n",
              "      <td>0</td>\n",
              "      <td>1</td>\n",
              "      <td>0</td>\n",
              "      <td>0</td>\n",
              "      <td>0</td>\n",
              "      <td>0</td>\n",
              "    </tr>\n",
              "    <tr>\n",
              "      <th>2</th>\n",
              "      <td>2.562666</td>\n",
              "      <td>11.849405</td>\n",
              "      <td>2.928524</td>\n",
              "      <td>7.311886</td>\n",
              "      <td>4.369448</td>\n",
              "      <td>1.791759</td>\n",
              "      <td>2.944439</td>\n",
              "      <td>...</td>\n",
              "      <td>0</td>\n",
              "      <td>0</td>\n",
              "      <td>0</td>\n",
              "      <td>0</td>\n",
              "      <td>0</td>\n",
              "      <td>0</td>\n",
              "      <td>0</td>\n",
              "    </tr>\n",
              "    <tr>\n",
              "      <th>3</th>\n",
              "      <td>2.589556</td>\n",
              "      <td>11.751950</td>\n",
              "      <td>3.178054</td>\n",
              "      <td>7.242082</td>\n",
              "      <td>4.510860</td>\n",
              "      <td>1.791759</td>\n",
              "      <td>2.708050</td>\n",
              "      <td>...</td>\n",
              "      <td>0</td>\n",
              "      <td>0</td>\n",
              "      <td>0</td>\n",
              "      <td>0</td>\n",
              "      <td>0</td>\n",
              "      <td>0</td>\n",
              "      <td>0</td>\n",
              "    </tr>\n",
              "    <tr>\n",
              "      <th>4</th>\n",
              "      <td>2.547513</td>\n",
              "      <td>11.695255</td>\n",
              "      <td>2.839078</td>\n",
              "      <td>7.169350</td>\n",
              "      <td>4.490881</td>\n",
              "      <td>1.791759</td>\n",
              "      <td>2.890372</td>\n",
              "      <td>...</td>\n",
              "      <td>0</td>\n",
              "      <td>0</td>\n",
              "      <td>0</td>\n",
              "      <td>0</td>\n",
              "      <td>0</td>\n",
              "      <td>0</td>\n",
              "      <td>0</td>\n",
              "    </tr>\n",
              "  </tbody>\n",
              "</table>\n",
              "<p>5 rows × 53 columns</p>\n",
              "</div>"
            ],
            "text/plain": [
              "   selling_price  km_driven   mileage    engine  max_power     seats  \\\n",
              "0       2.640271  11.887938  3.194583  7.130099   4.317488  1.791759   \n",
              "1       2.626208  11.695255  3.097386  7.312553   4.649378  1.791759   \n",
              "2       2.562666  11.849405  2.928524  7.311886   4.369448  1.791759   \n",
              "3       2.589556  11.751950  3.178054  7.242082   4.510860  1.791759   \n",
              "4       2.547513  11.695255  2.839078  7.169350   4.490881  1.791759   \n",
              "\n",
              "    car_age  ...  car_brand_name_Peugeot  car_brand_name_Renault  \\\n",
              "0  2.397895  ...                       0                       0   \n",
              "1  2.397895  ...                       0                       0   \n",
              "2  2.944439  ...                       0                       0   \n",
              "3  2.708050  ...                       0                       0   \n",
              "4  2.890372  ...                       0                       0   \n",
              "\n",
              "   car_brand_name_Skoda  car_brand_name_Tata  car_brand_name_Toyota  \\\n",
              "0                     0                    0                      0   \n",
              "1                     1                    0                      0   \n",
              "2                     0                    0                      0   \n",
              "3                     0                    0                      0   \n",
              "4                     0                    0                      0   \n",
              "\n",
              "   car_brand_name_Volkswagen  car_brand_name_Volvo  \n",
              "0                          0                     0  \n",
              "1                          0                     0  \n",
              "2                          0                     0  \n",
              "3                          0                     0  \n",
              "4                          0                     0  \n",
              "\n",
              "[5 rows x 53 columns]"
            ]
          },
          "execution_count": 43,
          "metadata": {},
          "output_type": "execute_result"
        }
      ],
      "source": [
        "df_encoded.head()"
      ]
    },
    {
      "cell_type": "code",
      "execution_count": 44,
      "metadata": {
        "colab": {
          "base_uri": "https://localhost:8080/"
        },
        "id": "LGQuvO1-HO0V",
        "outputId": "7dc5c011-04c1-4af2-db40-77d7cc36c404"
      },
      "outputs": [
        {
          "data": {
            "text/plain": [
              "(8128, 53)"
            ]
          },
          "execution_count": 44,
          "metadata": {},
          "output_type": "execute_result"
        }
      ],
      "source": [
        "df_encoded.shape"
      ]
    },
    {
      "cell_type": "code",
      "execution_count": 45,
      "metadata": {
        "id": "GO1HoxUoHO0V"
      },
      "outputs": [],
      "source": [
        "y1 = df_encoded[\"selling_price\"]"
      ]
    },
    {
      "cell_type": "code",
      "execution_count": 46,
      "metadata": {
        "id": "1llygjNyHO0W"
      },
      "outputs": [],
      "source": [
        "x1 = df_encoded.drop(\"selling_price\", axis = 1)\n"
      ]
    },
    {
      "cell_type": "code",
      "execution_count": 47,
      "metadata": {
        "colab": {
          "base_uri": "https://localhost:8080/"
        },
        "id": "xzLv87VQHO0W",
        "outputId": "d1517b3f-e574-4439-863e-155f945548b8"
      },
      "outputs": [
        {
          "name": "stdout",
          "output_type": "stream",
          "text": [
            "(6502, 52)\n",
            "(1626, 52)\n"
          ]
        }
      ],
      "source": [
        "x_train, x_test, y_train, y_test = train_test_split(x1, y1,\n",
        "                                                    test_size = 0.20,\n",
        "                                                    shuffle = True,\n",
        "                                                    random_state = 1)\n",
        "print(x_train.shape)\n",
        "print(x_test.shape)"
      ]
    },
    {
      "cell_type": "code",
      "execution_count": 48,
      "metadata": {
        "id": "0i3nl2ixHO0W"
      },
      "outputs": [],
      "source": [
        "# Define number of folds for cross-validation\n",
        "n_folds = 5\n",
        "kf = KFold(n_splits=n_folds, shuffle=True, random_state=1)\n",
        "\n"
      ]
    },
    {
      "cell_type": "code",
      "execution_count": 49,
      "metadata": {
        "id": "_s4rU9Q2HO0X"
      },
      "outputs": [],
      "source": [
        "# Initialize SVR models for each fold\n",
        "svr_models = []\n",
        "\n",
        "# Initialize lists to store evaluation metrics for each fold\n",
        "mse_scores = []\n",
        "rmse_scores = []\n",
        "mae_scores = []\n",
        "\n",
        "\n"
      ]
    },
    {
      "cell_type": "code",
      "execution_count": 50,
      "metadata": {
        "id": "6Rah19FcHO0X"
      },
      "outputs": [],
      "source": [
        "# Perform k-fold cross-validation\n",
        "for train_index, test_index in kf.split(x_train):\n",
        "    x_train_fold, x_val_fold = x_train.iloc[train_index], x_train.iloc[test_index]\n",
        "    y_train_fold, y_val_fold = y_train.iloc[train_index], y_train.iloc[test_index]\n",
        "\n",
        "    # Initialize SVR model for this fold with more complex hyperparameters\n",
        "    svr = SVR()\n",
        "\n",
        "    # Fit SVR model to the training fold\n",
        "    svr.fit(x_train_fold, y_train_fold)\n",
        "\n",
        "    # Store trained model for this fold\n",
        "    svr_models.append(svr)\n",
        "\n",
        "    # Predict on the validation fold\n",
        "    y_pred_fold = svr.predict(x_val_fold)\n",
        "\n",
        "        # Calculate evaluation metrics for the fold\n",
        "    mse_fold = mean_squared_error(y_val_fold, y_pred_fold)\n",
        "    rmse_fold = np.sqrt(mse_fold)\n",
        "    mae_fold = mean_absolute_error(y_val_fold, y_pred_fold)\n",
        "\n",
        "    mse_scores.append(mse_fold)\n",
        "    rmse_scores.append(rmse_fold)\n",
        "    mae_scores.append(mae_fold)\n"
      ]
    },
    {
      "cell_type": "code",
      "execution_count": 51,
      "metadata": {
        "colab": {
          "base_uri": "https://localhost:8080/"
        },
        "id": "scegToDUHO0X",
        "outputId": "d6f3a7a4-a40f-4c9f-ceee-1e74334a8f29"
      },
      "outputs": [
        {
          "name": "stdout",
          "output_type": "stream",
          "text": [
            "Fold 1 - Mean Squared Error (MSE): 0.0017890074371183459, Root Mean Squared Error (RMSE): 0.04229665988134697, Mean Absolute Error (MAE): 0.03634545933660066, \n",
            "Fold 2 - Mean Squared Error (MSE): 0.001951987905850877, Root Mean Squared Error (RMSE): 0.04418130719943534, Mean Absolute Error (MAE): 0.03822419143769807, \n",
            "Fold 3 - Mean Squared Error (MSE): 0.0018526068401861749, Root Mean Squared Error (RMSE): 0.04304191956902218, Mean Absolute Error (MAE): 0.036498360045407026, \n",
            "Fold 4 - Mean Squared Error (MSE): 0.0016938180864466655, Root Mean Squared Error (RMSE): 0.041156021265990536, Mean Absolute Error (MAE): 0.035158179831449796, \n",
            "Fold 5 - Mean Squared Error (MSE): 0.0021169154994977583, Root Mean Squared Error (RMSE): 0.04600995000538208, Mean Absolute Error (MAE): 0.039751280068581925, \n"
          ]
        }
      ],
      "source": [
        "# Print evaluation metrics for each fold\n",
        "for i in range(n_folds):\n",
        "    print(f\"Fold {i+1} - Mean Squared Error (MSE): {mse_scores[i]}, \"\n",
        "          f\"Root Mean Squared Error (RMSE): {rmse_scores[i]}, \"\n",
        "          f\"Mean Absolute Error (MAE): {mae_scores[i]}, \"\n",
        "          )"
      ]
    },
    {
      "cell_type": "code",
      "execution_count": 52,
      "metadata": {
        "colab": {
          "base_uri": "https://localhost:8080/"
        },
        "id": "ouUFXrOvHO0Y",
        "outputId": "e7fcbf0c-eb45-4b73-85bf-18b064223304"
      },
      "outputs": [
        {
          "name": "stdout",
          "output_type": "stream",
          "text": [
            "Mean Squared Error (MSE): 0.0018808671538199644\n",
            "Root Mean Squared Error (RMSE): 0.04333717158423542\n",
            "Mean Absolute Error (MAE): 0.037195494143947495\n"
          ]
        }
      ],
      "source": [
        "# Calculate mean evaluation metrics for each fold\n",
        "avg_mse = np.mean(mse_scores)\n",
        "avg_rmse = np.mean(rmse_scores)\n",
        "avg_mae = np.mean(mae_scores)\n",
        "\n",
        "\n",
        "# Print mean evaluation metrics\n",
        "print(f\"Mean Squared Error (MSE): {avg_mse}\")\n",
        "print(f\"Root Mean Squared Error (RMSE): {avg_rmse}\")\n",
        "print(f\"Mean Absolute Error (MAE): {avg_mae}\")"
      ]
    },
    {
      "cell_type": "code",
      "execution_count": 53,
      "metadata": {
        "colab": {
          "base_uri": "https://localhost:8080/"
        },
        "id": "ZaIVlTxNHO0Y",
        "outputId": "652c228e-b244-49d7-caa2-6687fa61ed40"
      },
      "outputs": [
        {
          "name": "stdout",
          "output_type": "stream",
          "text": [
            "Fold 1 - Mean Squared Error (MSE): 0.002138664061706301, Root Mean Squared Error (RMSE): 0.04624569235838405, Mean Absolute Error (MAE): 0.0393159826378351, Train Loss: 0.002120859341748954, Test Loss: 0.002138664061706301\n",
            "Fold 2 - Mean Squared Error (MSE): 0.0021462095873394553, Root Mean Squared Error (RMSE): 0.04632720137607554, Mean Absolute Error (MAE): 0.039239180787368905, Train Loss: 0.002132894166879463, Test Loss: 0.0021462095873394553\n",
            "Fold 3 - Mean Squared Error (MSE): 0.0020843543503927457, Root Mean Squared Error (RMSE): 0.045654729770230225, Mean Absolute Error (MAE): 0.03870894853837587, Train Loss: 0.002107837377760701, Test Loss: 0.0020843543503927457\n",
            "Fold 4 - Mean Squared Error (MSE): 0.0023534261310061877, Root Mean Squared Error (RMSE): 0.04851212354665777, Mean Absolute Error (MAE): 0.0409790953222359, Train Loss: 0.0022210566571284067, Test Loss: 0.0023534261310061877\n",
            "Fold 5 - Mean Squared Error (MSE): 0.002123631922011191, Root Mean Squared Error (RMSE): 0.04608288100814869, Mean Absolute Error (MAE): 0.03900296009636811, Train Loss: 0.0021312435804533092, Test Loss: 0.002123631922011191\n",
            "\n",
            "Mean Squared Error (MSE) across all folds: 0.002169257210491176\n",
            "Root Mean Squared Error (RMSE) across all folds: 0.046564525611899256\n",
            "Mean Absolute Error (MAE) across all folds: 0.03944923347643677\n",
            "Mean Train Loss across all folds: 0.0021427782247941665\n",
            "Mean Test Loss across all folds: 0.002169257210491176\n"
          ]
        }
      ],
      "source": [
        "from sklearn.decomposition import PCA\n",
        "from sklearn.model_selection import KFold\n",
        "from sklearn.metrics import mean_squared_error, mean_absolute_error\n",
        "from sklearn.svm import SVR\n",
        "import numpy as np\n",
        "\n",
        "# Define the percentage of variance to preserve\n",
        "variance_to_preserve = 0.6\n",
        "\n",
        "# Instantiate PCA with the desired variance to preserve\n",
        "pca = PCA(n_components=variance_to_preserve)\n",
        "\n",
        "# Fit PCA on the features\n",
        "x = df_encoded.drop(\"selling_price\", axis=1)\n",
        "pca.fit(x)\n",
        "\n",
        "# Transform the encoded DataFrame\n",
        "x_pca = pca.transform(x)\n",
        "\n",
        "# Define the number of folds for cross-validation\n",
        "n_folds = 5\n",
        "kf = KFold(n_splits=n_folds, shuffle=True, random_state=1)\n",
        "\n",
        "# Initialize SVR models for each fold\n",
        "svr_models = []\n",
        "\n",
        "# Initialize lists to store evaluation metrics and losses for each fold\n",
        "mse_scores = []\n",
        "rmse_scores = []\n",
        "mae_scores = []\n",
        "train_losses = []\n",
        "test_losses = []\n",
        "\n",
        "# Perform k-fold cross-validation\n",
        "for train_index, test_index in kf.split(x_pca):\n",
        "    x_train_fold, x_test_fold = x_pca[train_index], x_pca[test_index]\n",
        "    y_train_fold, y_test_fold = y1.iloc[train_index], y1.iloc[test_index]\n",
        "\n",
        "    # Initialize SVR model for this fold\n",
        "    svr = SVR()\n",
        "\n",
        "    # Fit SVR model to the training fold with reduced dimensionality\n",
        "    svr.fit(x_train_fold, y_train_fold)\n",
        "\n",
        "    # Store trained model for this fold\n",
        "    svr_models.append(svr)\n",
        "\n",
        "    # Predict on the training fold\n",
        "    y_train_pred = svr.predict(x_train_fold)\n",
        "    # Predict on the test fold\n",
        "    y_test_pred = svr.predict(x_test_fold)\n",
        "\n",
        "    # Calculate evaluation metrics for the fold\n",
        "    mse_fold = mean_squared_error(y_test_fold, y_test_pred)\n",
        "    rmse_fold = np.sqrt(mse_fold)\n",
        "    mae_fold = mean_absolute_error(y_test_fold, y_test_pred)\n",
        "\n",
        "    # Calculate training loss\n",
        "    train_loss = mean_squared_error(y_train_fold, y_train_pred)\n",
        "    # Calculate test loss\n",
        "    test_loss = mean_squared_error(y_test_fold, y_test_pred)\n",
        "\n",
        "    # Append evaluation metrics and losses to lists\n",
        "    mse_scores.append(mse_fold)\n",
        "    rmse_scores.append(rmse_fold)\n",
        "    mae_scores.append(mae_fold)\n",
        "    train_losses.append(train_loss)\n",
        "    test_losses.append(test_loss)\n",
        "\n",
        "# Print evaluation metrics and losses for each fold\n",
        "for i in range(n_folds):\n",
        "    print(f\"Fold {i+1} - Mean Squared Error (MSE): {mse_scores[i]}, \"\n",
        "          f\"Root Mean Squared Error (RMSE): {rmse_scores[i]}, \"\n",
        "          f\"Mean Absolute Error (MAE): {mae_scores[i]}, \"\n",
        "          f\"Train Loss: {train_losses[i]}, Test Loss: {test_losses[i]}\")\n",
        "\n",
        "# Calculate mean evaluation metrics and losses across all folds\n",
        "avg_mse = np.mean(mse_scores)\n",
        "avg_rmse = np.mean(rmse_scores)\n",
        "avg_mae = np.mean(mae_scores)\n",
        "avg_train_loss = np.mean(train_losses)\n",
        "avg_test_loss = np.mean(test_losses)\n",
        "\n",
        "# Print mean evaluation metrics and losses\n",
        "print(f\"\\nMean Squared Error (MSE) across all folds: {avg_mse}\")\n",
        "print(f\"Root Mean Squared Error (RMSE) across all folds: {avg_rmse}\")\n",
        "print(f\"Mean Absolute Error (MAE) across all folds: {avg_mae}\")\n",
        "print(f\"Mean Train Loss across all folds: {avg_train_loss}\")\n",
        "print(f\"Mean Test Loss across all folds: {avg_test_loss}\")\n"
      ]
    },
    {
      "cell_type": "code",
      "execution_count": 54,
      "metadata": {
        "colab": {
          "base_uri": "https://localhost:8080/"
        },
        "id": "tizXP5S1HO0Z",
        "outputId": "10a84d2e-bc5b-4e8d-e1d4-2c1f5735e2b3"
      },
      "outputs": [
        {
          "data": {
            "text/plain": [
              "(8128, 53)"
            ]
          },
          "execution_count": 54,
          "metadata": {},
          "output_type": "execute_result"
        }
      ],
      "source": [
        "df_encoded.shape"
      ]
    },
    {
      "cell_type": "code",
      "execution_count": 55,
      "metadata": {
        "colab": {
          "base_uri": "https://localhost:8080/"
        },
        "id": "Z6Pqy77FHO0Z",
        "outputId": "bb71b3e4-4c25-4f1e-a25c-59cb69e2e975"
      },
      "outputs": [
        {
          "data": {
            "text/plain": [
              "(8128, 11)"
            ]
          },
          "execution_count": 55,
          "metadata": {},
          "output_type": "execute_result"
        }
      ],
      "source": [
        "df_label.shape"
      ]
    },
    {
      "cell_type": "code",
      "execution_count": 56,
      "metadata": {
        "id": "z5SKs_8lHO0a"
      },
      "outputs": [],
      "source": [
        "from sklearn.linear_model import LinearRegression"
      ]
    },
    {
      "cell_type": "code",
      "execution_count": 57,
      "metadata": {
        "colab": {
          "base_uri": "https://localhost:8080/"
        },
        "id": "pYjJDC_YHO0a",
        "outputId": "99eba8a7-8069-4b0a-f411-16747b64ae8b"
      },
      "outputs": [
        {
          "name": "stdout",
          "output_type": "stream",
          "text": [
            "Fold 1 - Mean Squared Error (MSE): 0.0013194053371692013, Root Mean Squared Error (RMSE): 0.03632361954939515, Mean Absolute Error (MAE): 0.02794375685416744\n",
            "Fold 2 - Mean Squared Error (MSE): 0.0012657425189769793, Root Mean Squared Error (RMSE): 0.03557727531693482, Mean Absolute Error (MAE): 0.02753234881450434\n",
            "Fold 3 - Mean Squared Error (MSE): 0.0012831498497686664, Root Mean Squared Error (RMSE): 0.03582108108040105, Mean Absolute Error (MAE): 0.027705945324328237\n",
            "Fold 4 - Mean Squared Error (MSE): 0.0013862834670116417, Root Mean Squared Error (RMSE): 0.037232827813794125, Mean Absolute Error (MAE): 0.028814928152844897\n",
            "Fold 5 - Mean Squared Error (MSE): 0.0013230636163319431, Root Mean Squared Error (RMSE): 0.036373941446204906, Mean Absolute Error (MAE): 0.02801494422597209\n",
            "\n",
            "Mean Squared Error (MSE) across all folds: 0.0013155289578516863\n",
            "Root Mean Squared Error (RMSE) across all folds: 0.03626574904134601\n",
            "Mean Absolute Error (MAE) across all folds: 0.0280023846743634\n"
          ]
        }
      ],
      "source": [
        "from sklearn.decomposition import PCA\n",
        "from sklearn.model_selection import KFold\n",
        "from sklearn.linear_model import LinearRegression\n",
        "from sklearn.metrics import mean_squared_error, mean_absolute_error\n",
        "import numpy as np\n",
        "\n",
        "# Define the number of folds for cross-validation\n",
        "n_folds = 5\n",
        "kf = KFold(n_splits=n_folds, shuffle=True, random_state=1)\n",
        "\n",
        "# Define the percentage of variance to preserve\n",
        "variance_to_preserve = 0.5\n",
        "\n",
        "# Initialize PCA\n",
        "pca = PCA(n_components=variance_to_preserve)\n",
        "\n",
        "# Initialize lists to store evaluation metrics for each fold\n",
        "mse_scores = []\n",
        "rmse_scores = []\n",
        "mae_scores = []\n",
        "\n",
        "# Perform k-fold cross-validation\n",
        "for train_index, test_index in kf.split(df_encoded):\n",
        "    train_data, test_data = df_encoded.iloc[train_index], df_encoded.iloc[test_index]\n",
        "    x_train_fold, x_test_fold = train_data.drop(\"selling_price\", axis=1), test_data.drop(\"selling_price\", axis=1)\n",
        "    y_train_fold, y_test_fold = train_data[\"selling_price\"], test_data[\"selling_price\"]\n",
        "\n",
        "    # Fit PCA on the training data\n",
        "    pca.fit(x_train_fold)\n",
        "\n",
        "    # Transform the training and testing data\n",
        "    x_train_fold_pca = pca.transform(x_train_fold)\n",
        "    x_test_fold_pca = pca.transform(x_test_fold)\n",
        "\n",
        "    # Initialize Linear Regression model\n",
        "    lr = LinearRegression()\n",
        "\n",
        "    # Train the model\n",
        "    lr.fit(x_train_fold_pca, y_train_fold)\n",
        "\n",
        "    # Make predictions on the test set\n",
        "    y_pred_fold = lr.predict(x_test_fold_pca)\n",
        "\n",
        "    # Calculate evaluation metrics for the fold\n",
        "    mse_fold = mean_squared_error(y_test_fold, y_pred_fold)\n",
        "    rmse_fold = np.sqrt(mse_fold)\n",
        "    mae_fold = mean_absolute_error(y_test_fold, y_pred_fold)\n",
        "\n",
        "    # Append evaluation metrics to lists\n",
        "    mse_scores.append(mse_fold)\n",
        "    rmse_scores.append(rmse_fold)\n",
        "    mae_scores.append(mae_fold)\n",
        "\n",
        "# Print evaluation metrics for each fold\n",
        "for i in range(n_folds):\n",
        "    print(f\"Fold {i+1} - Mean Squared Error (MSE): {mse_scores[i]}, \"\n",
        "          f\"Root Mean Squared Error (RMSE): {rmse_scores[i]}, \"\n",
        "          f\"Mean Absolute Error (MAE): {mae_scores[i]}\")\n",
        "\n",
        "# Calculate mean evaluation metrics across all folds\n",
        "avg_mse = np.mean(mse_scores)\n",
        "avg_rmse = np.mean(rmse_scores)\n",
        "avg_mae = np.mean(mae_scores)\n",
        "\n",
        "# Print mean evaluation metrics\n",
        "print(f\"\\nMean Squared Error (MSE) across all folds: {avg_mse}\")\n",
        "print(f\"Root Mean Squared Error (RMSE) across all folds: {avg_rmse}\")\n",
        "print(f\"Mean Absolute Error (MAE) across all folds: {avg_mae}\")\n"
      ]
    },
    {
      "cell_type": "code",
      "execution_count": 58,
      "metadata": {
        "colab": {
          "base_uri": "https://localhost:8080/"
        },
        "id": "YENwV9QnHO0b",
        "outputId": "3ef7186a-17a7-49fe-fac3-9f94179017d9"
      },
      "outputs": [
        {
          "name": "stdout",
          "output_type": "stream",
          "text": [
            "(6502, 52)\n",
            "(1626, 52)\n"
          ]
        }
      ],
      "source": [
        "# Split the dataset into x_train (y_train) and x_test (y_test) sets\n",
        "\n",
        "x_train, x_test, y_train, y_test = train_test_split(x, y,\n",
        "                                                    test_size = 0.20,\n",
        "                                                    shuffle = True,\n",
        "                                                    random_state = 1)\n",
        "print(x_train.shape)\n",
        "print(x_test.shape)\n"
      ]
    },
    {
      "cell_type": "code",
      "execution_count": 59,
      "metadata": {
        "colab": {
          "base_uri": "https://localhost:8080/"
        },
        "id": "JFamtVbmHO0b",
        "outputId": "6ce9cbb9-4513-4abd-a272-ff3a5c124945"
      },
      "outputs": [
        {
          "name": "stdout",
          "output_type": "stream",
          "text": [
            "Fold 1 - Mean Squared Error (MSE): 0.0004121391107114165, Root Mean Squared Error (RMSE): 0.020301209587396916, Mean Absolute Error (MAE): 0.01498672167835491, Train Loss: 0.00038365076713114965, Test Loss: 0.0004121391107114165\n",
            "Fold 2 - Mean Squared Error (MSE): 0.00035500458412197346, Root Mean Squared Error (RMSE): 0.018841565330990243, Mean Absolute Error (MAE): 0.014177972260037353, Train Loss: 0.0003979401883315412, Test Loss: 0.00035500458412197346\n",
            "Fold 3 - Mean Squared Error (MSE): 0.00037834490658679866, Root Mean Squared Error (RMSE): 0.019451090113070748, Mean Absolute Error (MAE): 0.014418533353813823, Train Loss: 0.00039270770902218456, Test Loss: 0.00037834490658679866\n",
            "Fold 4 - Mean Squared Error (MSE): 0.0005398414786502945, Root Mean Squared Error (RMSE): 0.023234488990513533, Mean Absolute Error (MAE): 0.015893610641175428, Train Loss: 0.0004071000492246232, Test Loss: 0.0005398414786502945\n",
            "Fold 5 - Mean Squared Error (MSE): 4.654389118095082e+17, Root Mean Squared Error (RMSE): 682230834.6956389, Mean Absolute Error (MAE): 20656137.706463166, Train Loss: 0.00041204873103564433, Test Loss: 4.654389118095082e+17\n",
            "\n",
            "Mean Squared Error (MSE) across all folds: 9.308778236190165e+16\n",
            "Root Mean Squared Error (RMSE) across all folds: 136446166.95549345\n",
            "Mean Absolute Error (MAE) across all folds: 4131227.553188001\n",
            "Mean Train Loss across all folds: 0.00039868948894902854\n",
            "Mean Test Loss across all folds: 9.308778236190165e+16\n"
          ]
        }
      ],
      "source": [
        "from sklearn.model_selection import KFold\n",
        "from sklearn.linear_model import LinearRegression\n",
        "from sklearn.metrics import mean_squared_error, mean_absolute_error\n",
        "import numpy as np\n",
        "\n",
        "# Define the number of folds for cross-validation\n",
        "n_folds = 5\n",
        "kf = KFold(n_splits=n_folds, shuffle=True, random_state=1)\n",
        "\n",
        "# Initialize lists to store evaluation metrics for each fold\n",
        "mse_scores = []\n",
        "rmse_scores = []\n",
        "mae_scores = []\n",
        "train_losses = []\n",
        "test_losses = []\n",
        "\n",
        "# Perform k-fold cross-validation\n",
        "for train_index, test_index in kf.split(x):\n",
        "    x_train_fold, x_test_fold = x.iloc[train_index], x.iloc[test_index]\n",
        "    y_train_fold, y_test_fold = y.iloc[train_index], y.iloc[test_index]\n",
        "\n",
        "    # Initialize Linear Regression model\n",
        "    lr = LinearRegression()\n",
        "\n",
        "    # Train the model\n",
        "    lr.fit(x_train_fold, y_train_fold)\n",
        "\n",
        "    # Make predictions on the train set\n",
        "    y_train_pred = lr.predict(x_train_fold)\n",
        "    # Make predictions on the test set\n",
        "    y_test_pred = lr.predict(x_test_fold)\n",
        "\n",
        "    # Calculate evaluation metrics for the train and test sets\n",
        "    train_loss = mean_squared_error(y_train_fold, y_train_pred)\n",
        "    test_loss = mean_squared_error(y_test_fold, y_test_pred)\n",
        "\n",
        "    # Calculate evaluation metrics for the fold\n",
        "    mse_fold = mean_squared_error(y_test_fold, y_test_pred)\n",
        "    rmse_fold = np.sqrt(mse_fold)\n",
        "    mae_fold = mean_absolute_error(y_test_fold, y_test_pred)\n",
        "\n",
        "    # Append evaluation metrics to lists\n",
        "    mse_scores.append(mse_fold)\n",
        "    rmse_scores.append(rmse_fold)\n",
        "    mae_scores.append(mae_fold)\n",
        "    train_losses.append(train_loss)\n",
        "    test_losses.append(test_loss)\n",
        "\n",
        "# Print evaluation metrics for each fold\n",
        "for i in range(n_folds):\n",
        "    print(f\"Fold {i+1} - Mean Squared Error (MSE): {mse_scores[i]}, \"\n",
        "          f\"Root Mean Squared Error (RMSE): {rmse_scores[i]}, \"\n",
        "          f\"Mean Absolute Error (MAE): {mae_scores[i]}, \"\n",
        "          f\"Train Loss: {train_losses[i]}, Test Loss: {test_losses[i]}\")\n",
        "\n",
        "# Calculate mean evaluation metrics across all folds\n",
        "avg_mse = np.mean(mse_scores)\n",
        "avg_rmse = np.mean(rmse_scores)\n",
        "avg_mae = np.mean(mae_scores)\n",
        "avg_train_loss = np.mean(train_losses)\n",
        "avg_test_loss = np.mean(test_losses)\n",
        "\n",
        "# Print mean evaluation metrics\n",
        "print(f\"\\nMean Squared Error (MSE) across all folds: {avg_mse}\")\n",
        "print(f\"Root Mean Squared Error (RMSE) across all folds: {avg_rmse}\")\n",
        "print(f\"Mean Absolute Error (MAE) across all folds: {avg_mae}\")\n",
        "print(f\"Mean Train Loss across all folds: {avg_train_loss}\")\n",
        "print(f\"Mean Test Loss across all folds: {avg_test_loss}\")\n"
      ]
    },
    {
      "cell_type": "code",
      "execution_count": 60,
      "metadata": {
        "colab": {
          "base_uri": "https://localhost:8080/"
        },
        "id": "P8uaqF8bHO0c",
        "outputId": "9b3692a6-be5c-4045-ee92-e5d49a7a292b"
      },
      "outputs": [
        {
          "name": "stdout",
          "output_type": "stream",
          "text": [
            "Shape of encoded training data: (6502, 52)\n",
            "Shape of encoded testing data: (1626, 52)\n"
          ]
        }
      ],
      "source": [
        "from sklearn.model_selection import train_test_split\n",
        "from sklearn.preprocessing import MinMaxScaler\n",
        "from sklearn.neural_network import MLPRegressor\n",
        "\n",
        "# Scale the input features\n",
        "scaler = MinMaxScaler()\n",
        "x_scaled = scaler.fit_transform(x)\n",
        "\n",
        "# Split the scaled data into training and testing sets\n",
        "x_train, x_test, y_train, y_test = train_test_split(x_scaled, y, test_size=0.20, shuffle=True, random_state=1)\n",
        "\n",
        "# Define and train the autoencoder model\n",
        "autoencoder = MLPRegressor(hidden_layer_sizes=(256, 128, 256), activation='relu', solver='adam', random_state=1)\n",
        "autoencoder.fit(x_train, x_train)\n",
        "\n",
        "# Encode the input data using the trained autoencoder\n",
        "x_train_encoded = autoencoder.predict(x_train)\n",
        "x_test_encoded = autoencoder.predict(x_test)\n",
        "\n",
        "# Print the shapes of the encoded data\n",
        "print(\"Shape of encoded training data:\", x_train_encoded.shape)\n",
        "print(\"Shape of encoded testing data:\", x_test_encoded.shape)\n"
      ]
    },
    {
      "cell_type": "code",
      "execution_count": 61,
      "metadata": {
        "colab": {
          "base_uri": "https://localhost:8080/"
        },
        "id": "2951-V50HO0c",
        "outputId": "9e0641fa-839a-4efb-9f7d-ffd197e3cebb"
      },
      "outputs": [
        {
          "name": "stdout",
          "output_type": "stream",
          "text": [
            "Shape of encoded training data: (6502, 52)\n",
            "Shape of encoded testing data: (1626, 52)\n"
          ]
        }
      ],
      "source": [
        "from sklearn.model_selection import train_test_split\n",
        "from sklearn.preprocessing import MinMaxScaler\n",
        "from sklearn.neural_network import MLPRegressor\n",
        "\n",
        "# Scale the input features\n",
        "scaler = MinMaxScaler()\n",
        "x_scaled = scaler.fit_transform(x)\n",
        "\n",
        "# Split the scaled data into training and testing sets\n",
        "x_train, x_test, y_train, y_test = train_test_split(x_scaled, y, test_size=0.20, shuffle=True, random_state=1)\n",
        "\n",
        "# Define and train the autoencoder model\n",
        "autoencoder = MLPRegressor(hidden_layer_sizes=(256, 128, 256), activation='relu', solver='adam', random_state=1)\n",
        "autoencoder.fit(x_train, x_train)\n",
        "\n",
        "# Encode the input data using the trained autoencoder\n",
        "x_train_encoded = autoencoder.predict(x_train)\n",
        "x_test_encoded = autoencoder.predict(x_test)\n",
        "\n",
        "# Print the shapes of the encoded data\n",
        "print(\"Shape of encoded training data:\", x_train_encoded.shape)\n",
        "print(\"Shape of encoded testing data:\", x_test_encoded.shape)\n"
      ]
    },
    {
      "cell_type": "code",
      "execution_count": 62,
      "metadata": {
        "colab": {
          "base_uri": "https://localhost:8080/"
        },
        "id": "jpzwJLMSTME_",
        "outputId": "54945f59-8462-47bd-a81e-55662e80afca"
      },
      "outputs": [
        {
          "name": "stdout",
          "output_type": "stream",
          "text": [
            "Training Losses:\n",
            "MSE: [0.002524892910051497]\n",
            "RMSE: [0.05024831250949127]\n",
            "MAE: [0.0436747594111284]\n",
            "\n",
            "Testing Losses:\n",
            "MSE: [0.0024505192320830173]\n",
            "RMSE: [0.04950271944128946]\n",
            "MAE: [0.0430264100488786]\n"
          ]
        }
      ],
      "source": [
        "from sklearn.base import BaseEstimator, TransformerMixin\n",
        "from sklearn.preprocessing import StandardScaler, LabelEncoder\n",
        "from sklearn.svm import SVR\n",
        "from sklearn.metrics import mean_squared_error, mean_absolute_error\n",
        "from sklearn.model_selection import train_test_split\n",
        "from sklearn.decomposition import PCA\n",
        "import numpy as np\n",
        "\n",
        "\n",
        "class MINTModel(BaseEstimator):\n",
        "    def __init__(self, noise_level=0.1, svr_params=None):\n",
        "        self.noise_level = noise_level\n",
        "        self.scaler = StandardScaler()\n",
        "        self.svr_params = svr_params if svr_params else {'kernel': 'rbf'}\n",
        "        self.svr = SVR(**self.svr_params)\n",
        "        self.training_losses = {'MSE': [], 'RMSE': [], 'MAE': []}\n",
        "        self.testing_losses = {'MSE': [], 'RMSE': [], 'MAE': []}\n",
        "\n",
        "    def fit(self, X_train, y_train, X_test, y_test):\n",
        "        # Scale data\n",
        "        X_train_scaled = self.scaler.fit_transform(X_train)\n",
        "        X_test_scaled = self.scaler.transform(X_test)\n",
        "\n",
        "        # Fit SVR\n",
        "        self.svr.fit(X_train_scaled, y_train)\n",
        "\n",
        "        # Predict\n",
        "        y_train_pred = self.svr.predict(X_train_scaled)\n",
        "        y_test_pred = self.svr.predict(X_test_scaled)\n",
        "\n",
        "        # Compute losses\n",
        "        train_mse = mean_squared_error(y_train, y_train_pred)\n",
        "        train_rmse = np.sqrt(train_mse)\n",
        "        train_mae = mean_absolute_error(y_train, y_train_pred)\n",
        "\n",
        "        test_mse = mean_squared_error(y_test, y_test_pred)\n",
        "        test_rmse = np.sqrt(test_mse)\n",
        "        test_mae = mean_absolute_error(y_test, y_test_pred)\n",
        "\n",
        "        self.training_losses['MSE'].append(train_mse)\n",
        "        self.training_losses['RMSE'].append(train_rmse)\n",
        "        self.training_losses['MAE'].append(train_mae)\n",
        "\n",
        "        self.testing_losses['MSE'].append(test_mse)\n",
        "        self.testing_losses['RMSE'].append(test_rmse)\n",
        "        self.testing_losses['MAE'].append(test_mae)\n",
        "\n",
        "        return self\n",
        "\n",
        "# Instantiate the model\n",
        "model = MINTModel(noise_level=0.1, svr_params={'kernel': 'rbf'})\n",
        "\n",
        "# Split the data into training and testing sets\n",
        "# Replace X_train, y_train, X_test, y_test with your actual data\n",
        "X_train, X_test, y_train, y_test = train_test_split(x, y, test_size=0.2, random_state=42)\n",
        "\n",
        "# Train the model\n",
        "model.fit(X_train, y_train, X_test, y_test)\n",
        "\n",
        "# Print training and testing losses for each metric\n",
        "print(\"Training Losses:\")\n",
        "for metric, losses in model.training_losses.items():\n",
        "    print(f\"{metric}: {losses}\")\n",
        "\n",
        "print(\"\\nTesting Losses:\")\n",
        "for metric, losses in model.testing_losses.items():\n",
        "    print(f\"{metric}: {losses}\")\n"
      ]
    },
    {
      "cell_type": "markdown",
      "metadata": {
        "id": "Aivx2A3RW0SX"
      },
      "source": [
        "## Final Proposed Model"
      ]
    },
    {
      "cell_type": "code",
      "execution_count": 63,
      "metadata": {
        "colab": {
          "base_uri": "https://localhost:8080/"
        },
        "id": "0pRObWiNVMrw",
        "outputId": "3832bcac-254d-444d-96e8-d69d0065e70b"
      },
      "outputs": [
        {
          "name": "stdout",
          "output_type": "stream",
          "text": [
            "Training Losses:\n",
            "MSE: [0.00038739299113645293]\n",
            "RMSE: [0.019682301469504344]\n",
            "MAE: [0.014464202707448809]\n",
            "\n",
            "Testing Losses:\n",
            "MSE: [0.0003990136220666728]\n",
            "RMSE: [0.019975325330684173]\n",
            "MAE: [0.014742284267214767]\n"
          ]
        }
      ],
      "source": [
        "from sklearn.base import BaseEstimator, TransformerMixin\n",
        "from sklearn.preprocessing import StandardScaler\n",
        "from sklearn.linear_model import LinearRegression\n",
        "from sklearn.metrics import mean_squared_error, mean_absolute_error\n",
        "from sklearn.model_selection import train_test_split\n",
        "import numpy as np\n",
        "\n",
        "\n",
        "class LinDenoise (BaseEstimator):\n",
        "    def __init__(self, noise_level=0.1, lr_params=None):\n",
        "        self.noise_level = noise_level\n",
        "        self.scaler = StandardScaler()\n",
        "        self.lr_params = lr_params if lr_params else {}\n",
        "        self.lr = LinearRegression(**self.lr_params)\n",
        "        self.training_losses = {'MSE': [], 'RMSE': [], 'MAE': []}\n",
        "        self.testing_losses = {'MSE': [], 'RMSE': [], 'MAE': []}\n",
        "\n",
        "    def fit(self, X_train, y_train, X_test, y_test):\n",
        "        # Scale data\n",
        "        X_train_scaled = self.scaler.fit_transform(X_train)\n",
        "        X_test_scaled = self.scaler.transform(X_test)\n",
        "\n",
        "        # Fit Linear Regression\n",
        "        self.lr.fit(X_train_scaled, y_train)\n",
        "\n",
        "        # Predict with Linear Regression\n",
        "        y_train_pred = self.lr.predict(X_train_scaled)\n",
        "        y_test_pred = self.lr.predict(X_test_scaled)\n",
        "\n",
        "        # Compute losses\n",
        "        train_mse = mean_squared_error(y_train, y_train_pred)\n",
        "        train_rmse = np.sqrt(train_mse)\n",
        "        train_mae = mean_absolute_error(y_train, y_train_pred)\n",
        "\n",
        "        test_mse = mean_squared_error(y_test, y_test_pred)\n",
        "        test_rmse = np.sqrt(test_mse)\n",
        "        test_mae = mean_absolute_error(y_test, y_test_pred)\n",
        "\n",
        "        # Store losses\n",
        "        self.training_losses['MSE'].append(train_mse)\n",
        "        self.training_losses['RMSE'].append(train_rmse)\n",
        "        self.training_losses['MAE'].append(train_mae)\n",
        "\n",
        "        self.testing_losses['MSE'].append(test_mse)\n",
        "        self.testing_losses['RMSE'].append(test_rmse)\n",
        "        self.testing_losses['MAE'].append(test_mae)\n",
        "\n",
        "        return self\n",
        "\n",
        "# Instantiate the model\n",
        "model = LinDenoise (noise_level=0.1, lr_params={})\n",
        "\n",
        "# Split the data into training and testing sets\n",
        "# Replace X_train, y_train, X_test, y_test with your actual data\n",
        "X_train, X_test, y_train, y_test = train_test_split(x, y, test_size=0.2, random_state=42)\n",
        "\n",
        "# Train the model\n",
        "model.fit(X_train, y_train, X_test, y_test)\n",
        "\n",
        "# Print training and testing losses for each metric\n",
        "print(\"Training Losses:\")\n",
        "for metric, losses in model.training_losses.items():\n",
        "    print(f\"{metric}: {losses}\")\n",
        "\n",
        "print(\"\\nTesting Losses:\")\n",
        "for metric, losses in model.testing_losses.items():\n",
        "    print(f\"{metric}: {losses}\")\n"
      ]
    },
    {
      "cell_type": "code",
      "execution_count": 64,
      "metadata": {},
      "outputs": [
        {
          "name": "stdout",
          "output_type": "stream",
          "text": [
            "Training Losses:\n",
            "MSE: [0.00038739299113645293]\n",
            "RMSE: [0.019682301469504344]\n",
            "MAE: [0.014464202707448809]\n",
            "\n",
            "Testing Losses:\n",
            "MSE: [0.0003990136220666728]\n",
            "RMSE: [0.019975325330684173]\n",
            "MAE: [0.014742284267214767]\n"
          ]
        }
      ],
      "source": [
        "from sklearn.base import BaseEstimator, TransformerMixin\n",
        "from sklearn.preprocessing import StandardScaler\n",
        "from sklearn.linear_model import LinearRegression\n",
        "from sklearn.metrics import mean_squared_error, mean_absolute_error\n",
        "from sklearn.model_selection import train_test_split\n",
        "import numpy as np\n",
        "\n",
        "# Define MINT model with Linear Regression\n",
        "class LinDenoise (BaseEstimator):\n",
        "    def __init__(self, noise_level=0.1, lr_params=None):\n",
        "        self.noise_level = noise_level\n",
        "        self.scaler = StandardScaler()\n",
        "        self.lr_params = lr_params if lr_params else {}\n",
        "        self.lr = LinearRegression(**self.lr_params)\n",
        "        self.training_losses = {'MSE': [], 'RMSE': [], 'MAE': []}\n",
        "        self.testing_losses = {'MSE': [], 'RMSE': [], 'MAE': []}\n",
        "\n",
        "    def fit(self, X_train, y_train, X_test, y_test):\n",
        "        # Scale data\n",
        "        X_train_scaled = self.scaler.fit_transform(X_train)\n",
        "        X_test_scaled = self.scaler.transform(X_test)\n",
        "\n",
        "        # Fit Linear Regression\n",
        "        self.lr.fit(X_train_scaled, y_train)\n",
        "\n",
        "        # Predict with Linear Regression\n",
        "        y_train_pred = self.lr.predict(X_train_scaled)\n",
        "        y_test_pred = self.lr.predict(X_test_scaled)\n",
        "\n",
        "        # Compute losses\n",
        "        train_mse = mean_squared_error(y_train, y_train_pred)\n",
        "        train_rmse = np.sqrt(train_mse)\n",
        "        train_mae = mean_absolute_error(y_train, y_train_pred)\n",
        "\n",
        "        test_mse = mean_squared_error(y_test, y_test_pred)\n",
        "        test_rmse = np.sqrt(test_mse)\n",
        "        test_mae = mean_absolute_error(y_test, y_test_pred)\n",
        "\n",
        "        # Store losses\n",
        "        self.training_losses['MSE'].append(train_mse)\n",
        "        self.training_losses['RMSE'].append(train_rmse)\n",
        "        self.training_losses['MAE'].append(train_mae)\n",
        "\n",
        "        self.testing_losses['MSE'].append(test_mse)\n",
        "        self.testing_losses['RMSE'].append(test_rmse)\n",
        "        self.testing_losses['MAE'].append(test_mae)\n",
        "\n",
        "        return self\n",
        "\n",
        "# Instantiate the model\n",
        "model = LinDenoise (noise_level=0.1, lr_params={})\n",
        "\n",
        "# Split the data into training and testing sets\n",
        "# Replace X_train, y_train, X_test, y_test with your actual data\n",
        "X_train, X_test, y_train, y_test = train_test_split(x, y, test_size=0.2, random_state=42)\n",
        "\n",
        "# Train the model\n",
        "model.fit(X_train, y_train, X_test, y_test)\n",
        "\n",
        "# Print training and testing losses for each metric\n",
        "print(\"Training Losses:\")\n",
        "for metric, losses in model.training_losses.items():\n",
        "    print(f\"{metric}: {losses}\")\n",
        "\n",
        "print(\"\\nTesting Losses:\")\n",
        "for metric, losses in model.testing_losses.items():\n",
        "    print(f\"{metric}: {losses}\")\n"
      ]
    },
    {
      "cell_type": "code",
      "execution_count": 65,
      "metadata": {},
      "outputs": [
        {
          "data": {
            "image/png": "[encoded data removed]",
            "text/plain": [
              "<Figure size 1200x600 with 3 Axes>"
            ]
          },
          "metadata": {},
          "output_type": "display_data"
        }
      ],
      "source": [
        "import matplotlib.pyplot as plt\n",
        "import numpy as np\n",
        "\n",
        "# Extract training and testing losses\n",
        "training_losses = model.training_losses\n",
        "testing_losses = model.testing_losses\n",
        "metrics = list(training_losses.keys())\n",
        "\n",
        "# Generate x-axis values (epochs or any other indicator)\n",
        "epochs = np.arange(1, len(training_losses['MSE']) + 1)\n",
        "\n",
        "# Plot training and testing losses separately for each metric\n",
        "plt.figure(figsize=(12, 6))\n",
        "\n",
        "for i, metric in enumerate(metrics):\n",
        "    plt.subplot(1, 3, i + 1)\n",
        "    plt.plot(epochs, training_losses[metric], marker='o', linestyle='-', color='b', label='Training')\n",
        "    plt.plot(epochs, testing_losses[metric], marker='o', linestyle='-', color='r', label='Testing')\n",
        "    plt.title(f'{metric} Losses')\n",
        "   \n",
        "    plt.ylabel('Loss')\n",
        "    plt.legend()\n",
        "    plt.grid(True)\n",
        "\n",
        "plt.tight_layout()\n",
        "plt.show()\n"
      ]
    },
    {
      "cell_type": "code",
      "execution_count": null,
      "metadata": {},
      "outputs": [],
      "source": [
        "from sklearn.base import BaseEstimator, TransformerMixin\n",
        "from sklearn.preprocessing import StandardScaler\n",
        "from sklearn.linear_model import LinearRegression\n",
        "from sklearn.metrics import mean_squared_error, mean_absolute_error\n",
        "from sklearn.model_selection import train_test_split\n",
        "import numpy as np\n",
        "\n",
        "class LinDenoise(BaseEstimator):\n",
        "    def __init__(self, noise_level=0.1, lr_params=None):\n",
        "        self.noise_level = noise_level\n",
        "        self.scaler = StandardScaler()\n",
        "        self.lr_params = lr_params if lr_params else {}\n",
        "        self.lr = LinearRegression(**self.lr_params)\n",
        "        self.training_losses = {'MSE': [], 'RMSE': [], 'MAE': []}\n",
        "        self.testing_losses = {'MSE': [], 'RMSE': [], 'MAE': []}\n",
        "\n",
        "    def fit(self, X_train, y_train, X_test, y_test, epochs=1):\n",
        "        for epoch in range(epochs):\n",
        "            # Scale data\n",
        "            X_train_scaled = self.scaler.fit_transform(X_train)\n",
        "            X_test_scaled = self.scaler.transform(X_test)\n",
        "\n",
        "            # Fit Linear Regression\n",
        "            self.lr.fit(X_train_scaled, y_train)\n",
        "\n",
        "            # Predict with Linear Regression\n",
        "            y_train_pred = self.lr.predict(X_train_scaled)\n",
        "            y_test_pred = self.lr.predict(X_test_scaled)\n",
        "\n",
        "            # Compute losses\n",
        "            train_mse = mean_squared_error(y_train, y_train_pred)\n",
        "            train_rmse = np.sqrt(train_mse)\n",
        "            train_mae = mean_absolute_error(y_train, y_train_pred)\n",
        "\n",
        "            test_mse = mean_squared_error(y_test, y_test_pred)\n",
        "            test_rmse = np.sqrt(test_mse)\n",
        "            test_mae = mean_absolute_error(y_test, y_test_pred)\n",
        "\n",
        "            # Store losses for current epoch\n",
        "            self.training_losses['MSE'].append(train_mse)\n",
        "            self.training_losses['RMSE'].append(train_rmse)\n",
        "            self.training_losses['MAE'].append(train_mae)\n",
        "\n",
        "            self.testing_losses['MSE'].append(test_mse)\n",
        "            self.testing_losses['RMSE'].append(test_rmse)\n",
        "            self.testing_losses['MAE'].append(test_mae)\n",
        "\n",
        "            print(f\"Epoch {epoch + 1}/{epochs}:\")\n",
        "            print(f\"  Training Losses - MSE: {train_mse}, RMSE: {train_rmse}, MAE: {train_mae}\")\n",
        "            print(f\"  Testing Losses - MSE: {test_mse}, RMSE: {test_rmse}, MAE: {test_mae}\")\n",
        "\n",
        "        return self\n",
        "\n",
        "# Instantiate the model\n",
        "model = LinDenoise(noise_level=0.1, lr_params={})\n",
        "\n",
        "# Split the data into training and testing sets\n",
        "# Replace X_train, y_train, X_test, y_test with your actual data\n",
        "X_train, X_test, y_train, y_test = train_test_split(X, y, test_size=0.2, random_state=42)\n",
        "\n",
        "# Train the model for 10 epochs\n",
        "model.fit(X_train, y_train, X_test, y_test, epochs=10)\n",
        "\n",
        "# Print training and testing losses for each metric\n",
        "print(\"Final Training Losses:\")\n",
        "for metric, losses in model.training_losses.items():\n",
        "    print(f\"{metric}: {losses[-1]}\")\n",
        "\n",
        "print(\"\\nFinal Testing Losses:\")\n",
        "for metric, losses in model.testing_losses.items():\n",
        "    print(f\"{metric}: {losses[-1]}\")\n"
      ]
    }
  ],
  "metadata": {
    "accelerator": "GPU",
    "colab": {
      "gpuType": "T4",
      "provenance": []
    },
    "kernelspec": {
      "display_name": "Python 3",
      "name": "python3"
    },
    "language_info": {
      "codemirror_mode": {
        "name": "ipython",
        "version": 3
      },
      "file_extension": ".py",
      "mimetype": "text/x-python",
      "name": "python",
      "nbconvert_exporter": "python",
      "pygments_lexer": "ipython3",
      "version": "3.11.4"
    }
  },
  "nbformat": 4,
  "nbformat_minor": 0
}
